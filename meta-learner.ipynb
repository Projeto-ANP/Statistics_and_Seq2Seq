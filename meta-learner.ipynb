{
 "cells": [
  {
   "cell_type": "code",
   "execution_count": 4,
   "metadata": {},
   "outputs": [],
   "source": [
    "import warnings\n",
    "import pandas as pd\n",
    "from matplotlib import pyplot as plt\n",
    "from aeon.visualisation import plot_series\n",
    "from sklearn.metrics import mean_absolute_percentage_error as mape\n",
    "from all_functions import *\n",
    "import os\n",
    "import os\n",
    "warnings.filterwarnings(\"ignore\")\n",
    "%matplotlib inline"
   ]
  },
  {
   "cell_type": "code",
   "execution_count": 5,
   "metadata": {},
   "outputs": [],
   "source": [
    "def get_each_point_error(path, val_date):\n",
    "    df = pd.read_csv(path, sep=\";\")\n",
    "    \n",
    "    df_filtered = df[df['test_range'] <= val_date].copy()\n",
    "\n",
    "    df_filtered = df_filtered.iloc[::-1]\n",
    "    \n",
    "    error_series_concatenated = []\n",
    "    for _, row in df_filtered.iterrows():\n",
    "        error_series_str = row['error_series']\n",
    "        error_list = ast.literal_eval(error_series_str)\n",
    "        error_series_concatenated.append(error_list)\n",
    "    return error_series_concatenated\n",
    "\n",
    "\n",
    "def get_error_series(path, test_date):\n",
    "    df = pd.read_csv(path, sep=\";\")\n",
    "    error_series_str = df.loc[df['test_range'] == test_date, 'error_series'].values[0]\n",
    "    error_list_rf = ast.literal_eval(error_series_str)\n",
    "    return error_list_rf"
   ]
  },
  {
   "cell_type": "code",
   "execution_count": 6,
   "metadata": {},
   "outputs": [],
   "source": [
    "# estado = \"SP\"\n",
    "# transformations = ['normal', 'deseasonal', 'log']\n",
    "# models = [\"knn\", \"rf\", \"deepar\", \"svr\", \"catboost\", \"arima\"]\n",
    "# noResid = True\n",
    "# val_date = '2022-03_2023-02'\n",
    "# test_date = '2023-03_2024-02'\n",
    "\n",
    "# dirs = [\n",
    "#     '../datasets/venda/mensal/uf/gasolinac/',\n",
    "#     # '../datasets/venda/mensal/uf/etanolhidratado/',\n",
    "#     # '../datasets/venda/mensal/uf/glp/',\n",
    "#     # '../datasets/venda/mensal/uf/oleodiesel/',\n",
    "#     # '../datasets/venda/mensal/uf/querosenedeaviacao/',\n",
    "# ]\n",
    "\n",
    "# for directory in dirs:\n",
    "#     for file in os.listdir(directory):\n",
    "#         if file.endswith('.csv'):\n",
    "#             uf = file.split(\"_\")[1].upper()\n",
    "#             derivado = file.split(\"_\")[2].split(\".\")[0]\n",
    "#             full_path = os.path.join(directory, file)\n",
    "#             series = read_series(full_path)\n",
    "\n",
    "#             # X = np.hstack()\n",
    "#             stacks = []\n",
    "            \n",
    "#             for model in models:\n",
    "#                 for transform in transformations:\n",
    "#                     error_serie = get_each_point_error(\n",
    "#                         f'./results_hybrid/{model}/{derivado}/{transform}/transform_{uf}.csv', \n",
    "#                         val_date\n",
    "#                     )\n",
    "#                     stacks.extend(error_serie)\n",
    "#                     if noResid:\n",
    "#                         try:\n",
    "#                             error_serie = get_each_point_error(\n",
    "#                                 f'./results_hybrid/{model}_noresid/{derivado}/{transform}/transform_{uf}.csv', \n",
    "#                                 val_date\n",
    "#                             )\n",
    "#                             stacks.extend(error_serie)\n",
    "#                         except:\n",
    "#                             print(uf)\n",
    "#                             print(model)\n",
    "#                             print(derivado)\n",
    "#                             print(transform)\n",
    "#                             raise ValueError('error')\n",
    "#             print(uf)\n",
    "#             print(stacks)\n",
    "\n",
    "def get_all_error_series(path, val_date):\n",
    "    df = pd.read_csv(path, sep=\";\")\n",
    "    \n",
    "    df_filtered = df[df['test_range'] <= val_date].copy()\n",
    "\n",
    "    df_filtered = df_filtered.iloc[::-1]\n",
    "    \n",
    "    error_series_concatenated = []\n",
    "    for _, row in df_filtered.iterrows():\n",
    "        error_series_str = row['error_series']\n",
    "        error_list = ast.literal_eval(error_series_str)\n",
    "        error_series_concatenated.extend(error_list)\n",
    "    \n",
    "    return error_series_concatenated"
   ]
  },
  {
   "cell_type": "code",
   "execution_count": 7,
   "metadata": {},
   "outputs": [
    {
     "data": {
      "text/plain": [
       "array([ 2.31759881,  1.01935714, -0.11973558,  0.01795488,  0.44260007,\n",
       "        0.17255629,  0.67883331, -0.59314517, -0.97452236, -0.49448217,\n",
       "       -1.6204139 , -0.84660132])"
      ]
     },
     "execution_count": 7,
     "metadata": {},
     "output_type": "execute_result"
    }
   ],
   "source": [
    "estado = \"SP\"\n",
    "transformations = ['normal', 'deseasonal', 'log']\n",
    "models = [\"knn\", \"rf\", \"deepar\", \"svr\", \"catboost\", \"arima\"]\n",
    "noResid = True\n",
    "val_date = '2022-03_2023-02'\n",
    "test_date = '2023-03_2024-02'\n",
    "\n",
    "dirs = [\n",
    "    '../datasets/venda/mensal/uf/gasolinac/',\n",
    "    # '../datasets/venda/mensal/uf/etanolhidratado/',\n",
    "    # '../datasets/venda/mensal/uf/glp/',\n",
    "    # '../datasets/venda/mensal/uf/oleodiesel/',\n",
    "    # '../datasets/venda/mensal/uf/querosenedeaviacao/',\n",
    "]\n",
    "\n",
    "\n",
    "uf = estado\n",
    "derivado = \"etanolhidratado\"\n",
    "horizon = 12\n",
    "# X = np.hstack()\n",
    "stacks = []\n",
    "transformations = ['normal', 'deseasonal', 'log']\n",
    "rotulos_transformations = transformations.copy() \n",
    "rotulos_transformations.append(\"noresid\")  \n",
    "\n",
    "\n",
    "model_target = 'svr'\n",
    "transform_target = 'deseasonal'\n",
    "preds_start = []\n",
    "\n",
    "erros = pd.DataFrame()\n",
    "for model in models:\n",
    "    for transform in transformations:\n",
    "        error_serie = get_all_error_series(\n",
    "            f'./results_hybrid/{model}/{derivado}/{transform}/transform_{uf}.csv', \n",
    "            val_date\n",
    "        )\n",
    "\n",
    "        #condicao para retirar o ponto de partida (X_test) do train\n",
    "        if model == model_target and transform == transform_target:\n",
    "            preds_start = error_serie[-12:]\n",
    "            error_serie = error_serie[:-12]\n",
    "        \n",
    "        data = rolling_window(error_serie, 12)\n",
    "        \n",
    "        # data[rotulos_transformations] = 0\n",
    "        # data[models] = 0\n",
    "\n",
    "        # data[model] = 1\n",
    "        # data[transform] = 1\n",
    "        erros = pd.concat([data, erros], axis=0)\n",
    "       \n",
    "        if noResid:\n",
    "            try:\n",
    "                error_serie = get_all_error_series(\n",
    "                    f'./results_hybrid/{model}_noresid/{derivado}/{transform}/transform_{uf}.csv', \n",
    "                    val_date\n",
    "                )\n",
    "                data = rolling_window(error_serie, 12)\n",
    "                # data[rotulos_transformations] = 0\n",
    "                # data[models] = 0\n",
    "\n",
    "                # data[model] = 1\n",
    "                # data[transform] = 1\n",
    "                erros = pd.concat([data, erros], axis=0)\n",
    "                \n",
    "            except:\n",
    "                print(uf)\n",
    "                print(model)\n",
    "                print(derivado)\n",
    "                print(transform)\n",
    "                raise ValueError('error')\n",
    "            \n",
    "\n",
    "erros = erros.reset_index(drop=True)\n",
    "erros.columns = erros.columns.astype(str)\n",
    "X_train = erros.drop(columns=['12'])\n",
    "y_train = erros[['12']].squeeze()\n",
    "\n",
    "start_norm = znorm(preds_start)\n",
    "X_test = np.array([start_norm])\n",
    "start_norm"
   ]
  },
  {
   "cell_type": "code",
   "execution_count": 8,
   "metadata": {},
   "outputs": [],
   "source": [
    "def preds_recursive_meta(example, model, horizon):\n",
    "  preds = []\n",
    "  for i in range(horizon):\n",
    "    pred = model.predict(example)[0]\n",
    "    preds.append(pred)\n",
    "\n",
    "    example = example[:,1:]\n",
    "\n",
    "    example = np.append(example, pred)\n",
    "    example = example.reshape(1,-1)\n",
    "  return preds"
   ]
  },
  {
   "cell_type": "code",
   "execution_count": 9,
   "metadata": {},
   "outputs": [],
   "source": [
    "from sklearn.linear_model import LinearRegression\n",
    "from sklearn.svm import SVR\n",
    "from sklearn.ensemble import RandomForestRegressor\n",
    "from sklearn.neighbors import KNeighborsRegressor\n",
    "\n",
    "# rg = RandomForestRegressor()\n",
    "# rg.fit(X_train, y_train)\n",
    "# predictions = preds_recursive_meta(X_test, rg, horizon)\n",
    "# preds_real = znorm_reverse(pd.Series(predictions), np.mean(preds_start), np.std(preds_start))\n",
    "# real = [9043.149614886148, -3091.197742374963, 130880.96228778805, 79688.56315034768, 28905.223024249193, 25031.35794872581, 10243.253485904075, -38512.782241672976, -60414.857104607625, -61809.82647351979, -87323.63127602031, -141079.0506399559]\n",
    "# plt.plot(preds_real, label='Predictions')  # Adiciona a legenda \"Predictions\"\n",
    "# plt.plot(real, label='Real')  \n",
    "\n",
    "# # Adicionando título e rótulos aos eixosvalores\n",
    "# plt.title('Gráfico de Valores')\n",
    "# plt.xlabel('Índice')\n",
    "# plt.ylabel('Valores')\n",
    "# plt.legend()\n",
    "# # Exibindo o gráfico\n",
    "# plt.show()"
   ]
  },
  {
   "cell_type": "code",
   "execution_count": 10,
   "metadata": {},
   "outputs": [
    {
     "name": "stdout",
     "output_type": "stream",
     "text": [
      "etanolhidratado\n",
      "SP\n",
      "deseasonal\n"
     ]
    }
   ],
   "source": [
    "series = read_series(f'../datasets/venda/mensal/uf/{derivado}/mensal_{estado.lower()}_{derivado}.csv')\n",
    "print(derivado)\n",
    "print(estado)\n",
    "print(transform_target)\n",
    "treino, teste = train_test_stats(series, 12)\n",
    "transformer = STLTransformer(sp=12) \n",
    "stl = transformer.fit(treino)\n",
    "# train_stl = stl.seasonal_ + stl.trend_\n",
    "train_stl = treino\n",
    "train_tf = transform_regressors(train_stl, format=transform_target)"
   ]
  },
  {
   "cell_type": "code",
   "execution_count": 11,
   "metadata": {},
   "outputs": [
    {
     "data": {
      "text/plain": [
       "timestamp\n",
       "2023-03    658619.970348\n",
       "2023-04    650126.143545\n",
       "2023-05    661985.382053\n",
       "2023-06    655220.687027\n",
       "2023-07    670657.881209\n",
       "2023-08    685261.455057\n",
       "2023-09    682175.202706\n",
       "2023-10    703800.398029\n",
       "2023-11    669985.657208\n",
       "2023-12    717848.941783\n",
       "2024-01    648979.461550\n",
       "2024-02    636907.550232\n",
       "Freq: M, dtype: float64"
      ]
     },
     "execution_count": 11,
     "metadata": {},
     "output_type": "execute_result"
    }
   ],
   "source": [
    "def get_preds_hybrid(path, test_date, start_index):\n",
    "    df = pd.read_csv(path, sep=\";\")\n",
    "    results = {}\n",
    "    filtered_df = df[df['test_range'] == test_date]\n",
    "    columns_p1_to_p12 = filtered_df.loc[:, 'P1':'P12']\n",
    "    values_list = columns_p1_to_p12.values.flatten().tolist()     \n",
    "    results = pd.Series(values_list, index=start_index)\n",
    "    return results\n",
    "\n",
    "preds_arima = get_preds_hybrid(f'./results/{model_target}/{derivado}/{transform_target}/transform_{uf}.csv', \"2023-03_2024-02\", teste.index)\n",
    "# somados = preds_arima - preds_real.values\n",
    "preds_arima"
   ]
  },
  {
   "cell_type": "code",
   "execution_count": 13,
   "metadata": {},
   "outputs": [
    {
     "data": {
      "text/plain": [
       "(<Figure size 1600x400 with 1 Axes>, <Axes: >)"
      ]
     },
     "execution_count": 13,
     "metadata": {},
     "output_type": "execute_result"
    },
    {
     "data": {
      "image/png": "[encoded data removed]",
      "text/plain": [
       "<Figure size 1600x400 with 1 Axes>"
      ]
     },
     "metadata": {},
     "output_type": "display_data"
    }
   ],
   "source": [
    "\n",
    "\n",
    "data = rolling_window(pd.concat([train_tf, pd.Series([0,0,0,0,0,0,0,0,0,0,0,0], index=teste.index)]), 12)\n",
    "data = data.dropna()\n",
    "X_train, X_test, y_train, _ = train_test_split(data, horizon)\n",
    "\n",
    "rg = SVR(**{'kernel': 'rbf', 'C': 10, 'gamma': 3, 'epsilon': 0.5})\n",
    "rg.fit(X_train, y_train)\n",
    "predictions = recursive_multistep_forecasting(X_test, rg, horizon)\n",
    "preds = pd.Series(predictions, index=teste.index)\n",
    "preds_real = reverse_regressors(train_stl, preds, format=transform_target)\n",
    "plot_series(preds_real, teste)"
   ]
  },
  {
   "cell_type": "code",
   "execution_count": null,
   "metadata": {},
   "outputs": [],
   "source": []
  }
 ],
 "metadata": {
  "kernelspec": {
   "display_name": "lucas",
   "language": "python",
   "name": "python3"
  },
  "language_info": {
   "codemirror_mode": {
    "name": "ipython",
    "version": 3
   },
   "file_extension": ".py",
   "mimetype": "text/x-python",
   "name": "python",
   "nbconvert_exporter": "python",
   "pygments_lexer": "ipython3",
   "version": "3.11.7"
  }
 },
 "nbformat": 4,
 "nbformat_minor": 2
}
