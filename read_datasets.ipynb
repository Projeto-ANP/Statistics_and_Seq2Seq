{
 "cells": [
  {
   "cell_type": "code",
   "execution_count": 1,
   "metadata": {},
   "outputs": [],
   "source": [
    "from streamfuels.datasets import DatasetLoader\n",
    "import numpy as np\n",
    "import pandas as pd"
   ]
  },
  {
   "cell_type": "code",
   "execution_count": 4,
   "metadata": {},
   "outputs": [
    {
     "name": "stdout",
     "output_type": "stream",
     "text": [
      "{'frequency': 'daily', 'horizon': 14, 'missing_values': False, 'equal_length': False}\n",
      "107\n"
     ]
    }
   ],
   "source": [
    "files = [\"m4_daily_dataset.tsf\",\n",
    "        #  \"m4_hourly_dataset.tsf\", \"m4_weekly_dataset.tsf\", \n",
    "        #  \"nn5_daily_dataset_without_missing_values.tsf\", \"nn5_weekly_dataset.tsf\",\n",
    "        #  \"pedestrian_counts_dataset.tsf\", \"traffic_hourly_dataset.tsf\", \"traffic_weekly_dataset.tsf\", \"us_births_dataset.tsf\", \"australian_electricity_demand_dataset.tsf\"\n",
    "        ]\n",
    "\n",
    "\n",
    "for tsf_file in files:\n",
    "    file_path = f'../forecasting_datasets/{tsf_file}'\n",
    "    loader = DatasetLoader()\n",
    "    df, metadata = loader.read_tsf(path_tsf=file_path)\n",
    "    \n",
    "    if metadata['horizon'] == None:\n",
    "        if metadata['frequency'] == 'hourly':\n",
    "            metadata['horizon'] = 24\n",
    "        elif metadata['frequency'] == 'daily':\n",
    "            metadata['horizon'] = 14\n",
    "        elif metadata['frequency'] == 'half_hourly':\n",
    "            metadata['horizon'] = 48\n",
    "            \n",
    "        df[\"series_value\"] = df[\"series_value\"].apply(np.array)\n",
    "    # print(metadata)\n",
    "    frequency = metadata['frequency']\n",
    "    \n",
    "    # for i in range(len(df)):\n",
    "    i = 2084\n",
    "    series_value = df.iloc[i]['series_value'].tolist()\n",
    "    start_timestamp = df.iloc[i]['start_timestamp']\n",
    "    \n",
    "    freq_map = {\n",
    "        \"yearly\": \"Y\",\n",
    "        \"monthly\": \"M\",\n",
    "        \"weekly\": \"W\",\n",
    "        \"daily\": \"D\",\n",
    "        \"hourly\": \"H\",\n",
    "        \"half_hourly\": \"30min\",  # ou \"30T\"\n",
    "    }\n",
    "\n",
    "    freq = freq_map.get(frequency)\n",
    "    if freq is None:\n",
    "        raise ValueError(f\"Frequência desconhecida: {frequency}\")\n",
    "\n",
    "    index_series = pd.date_range(start=start_timestamp, periods=len(series_value), freq=freq)\n",
    "    series = pd.Series(series_value, index=index_series)\n",
    "    print(metadata)\n",
    "    print(len(series))"
   ]
  },
  {
   "cell_type": "code",
   "execution_count": 7,
   "metadata": {},
   "outputs": [
    {
     "data": {
      "text/plain": [
       "84"
      ]
     },
     "execution_count": 7,
     "metadata": {},
     "output_type": "execute_result"
    }
   ],
   "source": [
    "14 * 6"
   ]
  },
  {
   "cell_type": "code",
   "execution_count": null,
   "metadata": {},
   "outputs": [],
   "source": []
  }
 ],
 "metadata": {
  "kernelspec": {
   "display_name": "lucas",
   "language": "python",
   "name": "python3"
  },
  "language_info": {
   "codemirror_mode": {
    "name": "ipython",
    "version": 3
   },
   "file_extension": ".py",
   "mimetype": "text/x-python",
   "name": "python",
   "nbconvert_exporter": "python",
   "pygments_lexer": "ipython3",
   "version": "3.11.7"
  }
 },
 "nbformat": 4,
 "nbformat_minor": 2
}
