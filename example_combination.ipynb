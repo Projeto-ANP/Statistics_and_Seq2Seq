{
 "cells": [
  {
   "cell_type": "code",
   "execution_count": 1,
   "metadata": {},
   "outputs": [],
   "source": [
    "#!pip install -U aeon\n",
    "#!pip install aeon[all_extras]\n",
    "import warnings\n",
    "import pandas as pd\n",
    "from matplotlib import pyplot as plt\n",
    "from aeon.visualisation import plot_series\n",
    "from sklearn.metrics import mean_absolute_percentage_error as mape\n",
    "from all_functions import *\n",
    "import os\n",
    "from VotingCombination import VotingCombination\n",
    "warnings.filterwarnings(\"ignore\")\n",
    "%matplotlib inline"
   ]
  },
  {
   "cell_type": "code",
   "execution_count": null,
   "metadata": {},
   "outputs": [],
   "source": [
    "from all_functions import *\n",
    "import os\n",
    "import pickle\n",
    "from sklearn.ensemble import VotingRegressor\n",
    "from VotingCombination import VotingCombination\n",
    "import ast\n",
    "def get_params_csv(path, format):\n",
    "    df = pd.read_csv(path, sep=\";\")\n",
    "    filtered_df = df[df['DATA'] == format]\n",
    "    return  ast.literal_eval(filtered_df['PARAMS'].iloc[0])\n",
    "\n",
    "dirs = [\n",
    "    '../datasets/venda/mensal/uf/gasolinac',\n",
    "    '../datasets/venda/mensal/uf/etanolhidratado/',\n",
    "    '../datasets/venda/mensal/uf/gasolinadeaviacao/',\n",
    "    '../datasets/venda/mensal/uf/glp/',\n",
    "    '../datasets/venda/mensal/uf/oleocombustivel/',\n",
    "    '../datasets/venda/mensal/uf/oleodiesel/',\n",
    "    '../datasets/venda/mensal/uf/querosenedeaviacao/',\n",
    "    '../datasets/venda/mensal/uf/queroseneiluminante/',\n",
    "]\n",
    "\n",
    "results_arima = \"./results/arima/rolling\"\n",
    "transformations = [\"normal\", \"deseasonal\", \"deseasonal-log\", \"deseasonal-diff\", \"diff\", \"log\", \"log-diff\"]\n",
    "horizon = 12\n",
    "\n",
    "for directory in dirs:\n",
    "    for file in os.listdir(directory):\n",
    "        if file.endswith('.csv'):\n",
    "            uf = file.split(\"_\")[1].upper()\n",
    "            derivado = file.split(\"_\")[2].split(\".\")[0]\n",
    "            if uf == \"PB\" and derivado == \"gasolinac\":\n",
    "                series = read_series(f\"../datasets/venda/mensal/uf/{derivado}/mensal_{uf.lower()}_{derivado}.csv\")\n",
    "                train, test = train_test_stats(series, horizon)\n",
    "                train_val, test_val = train_test_stats(train, horizon)\n",
    "                estimators_val = {}\n",
    "                estimators = {}\n",
    "                for format in transformations:\n",
    "                    train_tf_val = transform_train(train_val, format=format)\n",
    "                    train_tf = transform_train(train, format=format)\n",
    "\n",
    "                    params = get_params_csv(f\"{results_arima}/{derivado}/transform_{uf}.csv\", format)\n",
    "                    print(f'{derivado} {uf} {format} - {params}')\n",
    "                    initial_order = (params['p'], params['d'], params['q'])\n",
    "\n",
    "                    #preds validation\n",
    "                    _, preds_val_real, final_val_order = fit_arima_train(train_tf_val, train_val, initial_order, horizon, format=format)\n",
    "                    estimators_val[format] = preds_val_real\n",
    "                    \n",
    "                    #preds test\n",
    "                    _, preds_real, final_order = fit_arima_train(train_tf, train, initial_order, horizon, format=format)\n",
    "                    estimators[format] = preds_real\n",
    "                \n",
    "                # print(preds_val_real)\n",
    "                voting = VotingCombination(estimators, combination='moe')\n",
    "                voting.fit_moe(estimators_val, test_val)\n",
    "                preds_moe = voting.predict()\n",
    "                plot_series(test, preds_moe, labels=[\"test\", \"preds_moe\"])\n",
    "                break\n"
   ]
  },
  {
   "cell_type": "code",
   "execution_count": 13,
   "metadata": {},
   "outputs": [
    {
     "data": {
      "text/plain": [
       "[(0, 'diff'),\n",
       " (1, 'deseasonal-log'),\n",
       " (2, 'normal'),\n",
       " (3, 'deseasonal-diff'),\n",
       " (4, 'normal'),\n",
       " (5, 'normal'),\n",
       " (6, 'normal'),\n",
       " (7, 'log'),\n",
       " (8, 'normal'),\n",
       " (9, 'deseasonal-diff'),\n",
       " (10, 'deseasonal-diff'),\n",
       " (11, 'deseasonal-diff')]"
      ]
     },
     "execution_count": 13,
     "metadata": {},
     "output_type": "execute_result"
    }
   ],
   "source": [
    "voting.get_moe()"
   ]
  },
  {
   "cell_type": "code",
   "execution_count": null,
   "metadata": {},
   "outputs": [],
   "source": [
    "horizon = 12\n",
    "window = 12\n",
    "arima_results = './results/arima/rolling'\n",
    "transformations = [\"normal\", \"deseasonal\", \"log\", \"deseasonal-log\"]"
   ]
  },
  {
   "cell_type": "code",
   "execution_count": null,
   "metadata": {},
   "outputs": [],
   "source": [
    "def get_predictions_csv(path, formats, start_index):\n",
    "    df = pd.read_csv(path, sep=\";\")\n",
    "    results = {}\n",
    "    params = {}\n",
    "    for format in formats:\n",
    "        filtered_df = df[df['DATA'] == format]\n",
    "        \n",
    "        columns_p1_to_p12 = filtered_df.loc[:, 'P1':'P12']\n",
    "        \n",
    "        # values_list = columns_p1_to_p12.values.tolist()\n",
    "        values_list = columns_p1_to_p12.values.flatten().tolist()        \n",
    "        results[format] = pd.Series(values_list, index=start_index)\n",
    "        params[format] = filtered_df['PARAMS'].iloc[0]\n",
    "            \n",
    "    return results, params"
   ]
  },
  {
   "cell_type": "code",
   "execution_count": null,
   "metadata": {},
   "outputs": [
    {
     "data": {
      "text/plain": [
       "timestamp\n",
       "2023-03    294762.731172\n",
       "2023-04    287516.940935\n",
       "2023-05    290341.819788\n",
       "2023-06    256337.091406\n",
       "2023-07    277747.979226\n",
       "2023-08    282123.813436\n",
       "2023-09    272638.965544\n",
       "2023-10    262822.154651\n",
       "2023-11    264372.791480\n",
       "2023-12    290183.365164\n",
       "2024-01    256323.800818\n",
       "2024-02    262214.923920\n",
       "Freq: M, dtype: float64"
      ]
     },
     "execution_count": 8,
     "metadata": {},
     "output_type": "execute_result"
    }
   ],
   "source": [
    "uf = \"PR\"\n",
    "derivado = \"gasolinac\"\n",
    "file_path = \"./results/arima/rolling/gasolinac/transform_PR.csv\"\n",
    "series = read_series(f\"../datasets/venda/mensal/uf/{derivado}/mensal_{uf.lower()}_{derivado}.csv\")\n",
    "_, test = train_test_stats(series, horizon)\n",
    "\n",
    "\n",
    "predictions, params = get_predictions_csv(file_path, transformations, start_index=test.index)\n",
    "voting = VotingCombination(predictions, combination='moe')\n",
    "voting.update_moe([(0,\"deseasonal\"),(1,\"deseasonal\"), (2,\"deseasonal\"), (3,\"log\"), (4,\"log\"), (5,\"log\"), (6,\"log\"), (7,\"log\"), (8,\"log\"), (9,\"log\"), (10,\"log\"), (11,\"log\")])\n",
    "voting.predict()"
   ]
  },
  {
   "cell_type": "code",
   "execution_count": null,
   "metadata": {},
   "outputs": [],
   "source": [
    "# results_mean = \"./results/arima_mean/rolling\"\n",
    "# results_median = \"./results/arima_median/rolling\"\n",
    "\n",
    "# colunas = ['DATA', 'MCPM', 'UF', 'PRODUCT', 'MODEL', 'PARAMS', 'WINDOW', 'HORIZON', 'RMSE', 'MAPE', 'POCID', 'PBE',\n",
    "#            'P1', 'P2', 'P3', 'P4', 'P5', 'P6', 'P7', 'P8', 'P9', 'P10', 'P11', 'P12',\n",
    "#            ]\n",
    "# for subdir, _, files in os.walk(arima_results):\n",
    "#     for file in files:\n",
    "#         if file.endswith('.csv'):\n",
    "#             uf = file.split(\"_\")[1][:2]\n",
    "#             derivado = subdir.split(\"/\")[-1]\n",
    "#             file_path = os.path.join(subdir, file)\n",
    "#             series = read_series(f\"../datasets/venda/mensal/uf/{derivado}/mensal_{uf.lower()}_{derivado}.csv\")\n",
    "#             _, test = train_test_stats(series, horizon)\n",
    "            \n",
    "\n",
    "#             predictions, params = get_predictions_csv(file_path, transformations, start_index=test.index)\n",
    "            \n",
    "#             voting = VotingCombination(predictions, combination='mean')\n",
    "#             preds_mean = voting.predict()\n",
    "\n",
    "#             rmse_result = rmse(test, preds_mean)\n",
    "#             mape_result = mape(test, preds_mean)\n",
    "#             pocid_result = pocid(test, preds_mean)\n",
    "#             pbe_result = pbe(test, preds_mean)\n",
    "#             mcpm_result = mcpm(rmse_result, mape_result, pocid_result)\n",
    "\n",
    "#             path_derivado = results_mean + f\"/{derivado}\"\n",
    "#             csv_file = path_derivado + f\"/transform_{uf.upper()}.csv\"\n",
    "#             os.makedirs(path_derivado, exist_ok=True)\n",
    "\n",
    "#             df_result = pd.DataFrame({'DATA': \"arima-mean\", 'MCPM': mcpm_result, 'UF': uf, 'PRODUCT': derivado, 'MODEL': 'ARIMA_MEAN', 'PARAMS': params, 'WINDOW': window, 'HORIZON': horizon,  \n",
    "#                                             'RMSE': rmse_result, 'MAPE': mape_result, 'POCID': pocid_result, 'PBE': pbe_result,\n",
    "#                                             'P1': preds_mean[0], 'P2': preds_mean[1], 'P3': preds_mean[2], 'P4': preds_mean[3], 'P5': preds_mean[4],\n",
    "#                                             'P6': preds_mean[5], 'P7': preds_mean[6], 'P8': preds_mean[7], 'P9': preds_mean[8], 'P10': preds_mean[9],\n",
    "#                                             'P11': preds_mean[10], 'P12': preds_mean[11]\n",
    "#                                             }, index=[0])\n",
    "#             df_result = df_result[colunas]\n",
    "\n",
    "#             df_result.to_csv(csv_file, sep=';', index=False)\n",
    "\n",
    "\n",
    "#             #MEDIAN\n",
    "#             voting = VotingCombination(predictions, combination='median')\n",
    "#             preds_mean = voting.predict()\n",
    "\n",
    "#             rmse_result = rmse(test, preds_mean)\n",
    "#             mape_result = mape(test, preds_mean)\n",
    "#             pocid_result = pocid(test, preds_mean)\n",
    "#             pbe_result = pbe(test, preds_mean)\n",
    "#             mcpm_result = mcpm(rmse_result, mape_result, pocid_result)\n",
    "\n",
    "#             path_derivado = results_median + f\"/{derivado}\"\n",
    "#             csv_file = path_derivado + f\"/transform_{uf.upper()}.csv\"\n",
    "#             os.makedirs(path_derivado, exist_ok=True)\n",
    "#             df_result = pd.DataFrame({'DATA': \"arima-median\", 'MCPM': mcpm_result, 'UF': uf, 'PRODUCT': derivado, 'MODEL': 'ARIMA_MEAN', 'PARAMS': str(params), 'WINDOW': window, 'HORIZON': horizon,  \n",
    "#                                             'RMSE': rmse_result, 'MAPE': mape_result, 'POCID': pocid_result, 'PBE': pbe_result,\n",
    "#                                             'P1': preds_mean[0], 'P2': preds_mean[1], 'P3': preds_mean[2], 'P4': preds_mean[3], 'P5': preds_mean[4],\n",
    "#                                             'P6': preds_mean[5], 'P7': preds_mean[6], 'P8': preds_mean[7], 'P9': preds_mean[8], 'P10': preds_mean[9],\n",
    "#                                             'P11': preds_mean[10], 'P12': preds_mean[11]\n",
    "#                                             }, index=[0])\n",
    "#             df_result = df_result[colunas]\n",
    "\n",
    "#             df_result.to_csv(csv_file, sep=';', index=False)\n"
   ]
  },
  {
   "cell_type": "code",
   "execution_count": null,
   "metadata": {},
   "outputs": [],
   "source": [
    "dt = pd.read_csv(\"./results/arima/rolling/gasolinac/transform_PR.csv\", sep=\";\")\n",
    "filtered_df = dt[dt['DATA'] == \"normal\"]\n",
    "preds_normal = filtered_df.loc[:, 'P1':'P12'].values.flatten().tolist()\n",
    "preds_normal\n",
    "\n",
    "\n",
    "dt = pd.read_csv(\"./results/arima/rolling/gasolinac/transform_PR.csv\", sep=\";\")\n",
    "filtered_df = dt[dt['DATA'] == \"log\"]\n",
    "preds_log = filtered_df.loc[:, 'P1':'P12'].values.flatten().tolist()\n",
    "preds_log\n",
    "\n",
    "dt = pd.read_csv(\"./results/arima/rolling/gasolinac/transform_PR.csv\", sep=\";\")\n",
    "filtered_df = dt[dt['DATA'] == \"deseasonal\"]\n",
    "preds_deseasonal = filtered_df.loc[:, 'P1':'P12'].values.flatten().tolist()\n",
    "preds_deseasonal\n",
    "\n",
    "dt = pd.read_csv(\"./results/arima/rolling/gasolinac/transform_PR.csv\", sep=\";\")\n",
    "filtered_df = dt[dt['DATA'] == \"deseasonal-log\"]\n",
    "preds_deseasonal_log = filtered_df.loc[:, 'P1':'P12'].values.flatten().tolist()\n",
    "preds_deseasonal_log\n",
    "\n",
    "dt = pd.read_csv(\"./results/arima_mean/rolling/gasolinac/transform_PR.csv\", sep=\";\")\n",
    "filtered_df = dt[dt['DATA'] == \"arima-mean\"]\n",
    "preds_arima_mean = filtered_df.loc[:, 'P1':'P12'].values.flatten().tolist()\n",
    "preds_arima_mean\n",
    "\n",
    "dt = pd.read_csv(\"./results/arima_median/rolling/gasolinac/transform_PR.csv\", sep=\";\")\n",
    "filtered_df = dt[dt['DATA'] == \"arima-median\"]\n",
    "preds_arima_median = filtered_df.loc[:, 'P1':'P12'].values.flatten().tolist()\n",
    "preds_arima_median\n",
    "\n",
    "dt = pd.read_csv(\"./results/varma/rolling/gasolinac/transform_PR.csv\", sep=\";\")\n",
    "filtered_df = dt[dt['DATA'] == \"normal\"]\n",
    "preds_varma = filtered_df.loc[:, 'P1':'P12'].values.flatten().tolist()\n",
    "preds_varma\n",
    "\n",
    "\n",
    "series = read_series(f\"../datasets/venda/mensal/uf/gasolinac/mensal_pr_gasolinac.csv\")\n",
    "_, test = train_test_stats(series, horizon)\n",
    "            "
   ]
  },
  {
   "cell_type": "code",
   "execution_count": null,
   "metadata": {},
   "outputs": [
    {
     "data": {
      "text/plain": [
       "[282733.246,\n",
       " 278030.363,\n",
       " 308678.848,\n",
       " 282389.703,\n",
       " 280493.13,\n",
       " 285714.356,\n",
       " 268792.424,\n",
       " 262763.72,\n",
       " 262554.957,\n",
       " 306762.262,\n",
       " 261165.719,\n",
       " 233943.837]"
      ]
     },
     "execution_count": 7,
     "metadata": {},
     "output_type": "execute_result"
    }
   ],
   "source": [
    "test.tolist()"
   ]
  },
  {
   "cell_type": "code",
   "execution_count": null,
   "metadata": {},
   "outputs": [
    {
     "data": {
      "image/png": "[encoded data removed]",
      "text/plain": [
       "<Figure size 640x480 with 1 Axes>"
      ]
     },
     "metadata": {},
     "output_type": "display_data"
    }
   ],
   "source": [
    "\n",
    "listas = [test.tolist(), preds_varma,\n",
    "            preds_normal,\n",
    "        #  preds_log, preds_deseasonal, preds_deseasonal_log, preds_arima_mean, preds_arima_median\n",
    "          ]\n",
    "\n",
    "names = [\"teste\", \"preds_varma\",\n",
    "         \"preds_normal\",\n",
    "        #  \"preds_log\", \"preds_deseasonal\", \"preds_deseasonal_log\", \"preds_arima_mean\", \"preds_arima_median\"\n",
    "         ]\n",
    "for i in range(len(listas)):\n",
    "    plt.plot(listas[i], label=names[i])\n",
    "    plt.legend()"
   ]
  },
  {
   "cell_type": "code",
   "execution_count": null,
   "metadata": {},
   "outputs": [],
   "source": [
    "def euclidean_dist(serie1, serie2):\n",
    "    dist = np.linalg.norm(serie1 - serie2)\n",
    "    return dist"
   ]
  },
  {
   "cell_type": "code",
   "execution_count": null,
   "metadata": {},
   "outputs": [
    {
     "data": {
      "text/plain": [
       "48192.93906005725"
      ]
     },
     "execution_count": 10,
     "metadata": {},
     "output_type": "execute_result"
    }
   ],
   "source": [
    "euclidean_dist(preds_normal, test)"
   ]
  },
  {
   "cell_type": "code",
   "execution_count": null,
   "metadata": {},
   "outputs": [
    {
     "data": {
      "text/plain": [
       "'abc'"
      ]
     },
     "execution_count": 11,
     "metadata": {},
     "output_type": "execute_result"
    }
   ],
   "source": [
    "\"../datasets/venda/mensal/uf/abc\".split(\"/\")[-1]"
   ]
  },
  {
   "cell_type": "code",
   "execution_count": null,
   "metadata": {},
   "outputs": [],
   "source": [
    "import os\n",
    "import pandas as pd\n",
    "import numpy as np\n",
    "\n",
    "path_datasets = '../datasets/venda/mensal/uf'\n",
    "\n",
    "def build_state_matrix(states):\n",
    "    n = len(states)\n",
    "    matrix = pd.DataFrame(np.zeros((n, n)), index=states, columns=states)\n",
    "    return matrix\n",
    "\n",
    "def make_matrix(path_derivado):\n",
    "        # derivado = path_derivado.split(\"/\")[-1]\n",
    "                \n",
    "        csv_files = [file for file in os.listdir(path_derivado) if file.endswith('.csv')]\n",
    "        \n",
    "        states = []\n",
    "        for csv_file in csv_files:  \n",
    "            start = csv_file.find('mensal_') + len('mensal_')\n",
    "            end = csv_file.find('_', start)\n",
    "            state = csv_file[start:end].upper()\n",
    "            \n",
    "            states.append(state)\n",
    "                \n",
    "        return build_state_matrix(states)\n",
    "\n",
    "\n",
    "def euclidean_series(matrix, path_derivado, transform):\n",
    "    derivado = path_derivado.split(\"/\")[-1]\n",
    "    for row in matrix.itertuples():\n",
    "        row_header = row.Index\n",
    "        for col_header in matrix.columns:\n",
    "            if row_header != col_header:\n",
    "                series_row = read_series(f\"{path_derivado}/mensal_{row_header.lower()}_{derivado}.csv\")\n",
    "                series_col = read_series(f\"{path_derivado}/mensal_{col_header.lower()}_{derivado}.csv\")\n",
    "                train_row, _ = train_test_stats(series_row, horizon)\n",
    "                train_col, _ = train_test_stats(series_col, horizon)\n",
    "                train_tf_row = transform_train(train_row, format=transform)\n",
    "                train_tf_col = transform_train(train_col, format=transform)\n",
    "                matrix.at[row_header, col_header] = euclidean_dist(train_tf_row, train_tf_col)\n",
    "\n",
    "    return matrix\n",
    "\n",
    "def similar_states(matrix, x, estado):\n",
    "    filtered_values = matrix[estado].copy()\n",
    "    filtered_values[matrix.index == estado] = np.nan\n",
    "    \n",
    "    # Obtém os X menores valores\n",
    "    smallest_values = filtered_values.nsmallest(x)\n",
    "    \n",
    "    return smallest_values\n",
    "\n",
    "        "
   ]
  },
  {
   "cell_type": "code",
   "execution_count": null,
   "metadata": {},
   "outputs": [
    {
     "ename": "KeyboardInterrupt",
     "evalue": "",
     "output_type": "error",
     "traceback": [
      "\u001b[0;31m---------------------------------------------------------------------------\u001b[0m",
      "\u001b[0;31mKeyboardInterrupt\u001b[0m                         Traceback (most recent call last)",
      "\u001b[0;32m/tmp/ipykernel_365288/1187400503.py\u001b[0m in \u001b[0;36m?\u001b[0;34m()\u001b[0m\n\u001b[1;32m      1\u001b[0m \u001b[0mderivado\u001b[0m \u001b[0;34m=\u001b[0m \u001b[0;34m\"gasolinac\"\u001b[0m\u001b[0;34m\u001b[0m\u001b[0;34m\u001b[0m\u001b[0m\n\u001b[1;32m      2\u001b[0m \u001b[0mpath_derivado\u001b[0m \u001b[0;34m=\u001b[0m \u001b[0mpath_datasets\u001b[0m\u001b[0;34m+\u001b[0m\u001b[0;34m\"/\"\u001b[0m\u001b[0;34m+\u001b[0m\u001b[0mderivado\u001b[0m\u001b[0;34m\u001b[0m\u001b[0;34m\u001b[0m\u001b[0m\n\u001b[1;32m      3\u001b[0m \u001b[0mmatrix\u001b[0m \u001b[0;34m=\u001b[0m \u001b[0mmake_matrix\u001b[0m\u001b[0;34m(\u001b[0m\u001b[0mpath_derivado\u001b[0m\u001b[0;34m)\u001b[0m\u001b[0;34m\u001b[0m\u001b[0;34m\u001b[0m\u001b[0m\n\u001b[0;32m----> 4\u001b[0;31m \u001b[0mmatrix_euclid\u001b[0m \u001b[0;34m=\u001b[0m \u001b[0meuclidean_series\u001b[0m\u001b[0;34m(\u001b[0m\u001b[0mmatrix\u001b[0m\u001b[0;34m,\u001b[0m \u001b[0mpath_derivado\u001b[0m\u001b[0;34m,\u001b[0m \u001b[0;34m\"normal\"\u001b[0m\u001b[0;34m)\u001b[0m\u001b[0;34m\u001b[0m\u001b[0;34m\u001b[0m\u001b[0m\n\u001b[0m",
      "\u001b[0;32m/tmp/ipykernel_365288/518075663.py\u001b[0m in \u001b[0;36m?\u001b[0;34m(matrix, path_derivado, transform)\u001b[0m\n\u001b[1;32m     35\u001b[0m                 \u001b[0mseries_col\u001b[0m \u001b[0;34m=\u001b[0m \u001b[0mread_series\u001b[0m\u001b[0;34m(\u001b[0m\u001b[0;34mf\"{path_derivado}/mensal_{col_header.lower()}_{derivado}.csv\"\u001b[0m\u001b[0;34m)\u001b[0m\u001b[0;34m\u001b[0m\u001b[0;34m\u001b[0m\u001b[0m\n\u001b[1;32m     36\u001b[0m                 \u001b[0mtrain_row\u001b[0m\u001b[0;34m,\u001b[0m \u001b[0m_\u001b[0m \u001b[0;34m=\u001b[0m \u001b[0mtrain_test_stats\u001b[0m\u001b[0;34m(\u001b[0m\u001b[0mseries_row\u001b[0m\u001b[0;34m,\u001b[0m \u001b[0mhorizon\u001b[0m\u001b[0;34m)\u001b[0m\u001b[0;34m\u001b[0m\u001b[0;34m\u001b[0m\u001b[0m\n\u001b[1;32m     37\u001b[0m                 \u001b[0mtrain_col\u001b[0m\u001b[0;34m,\u001b[0m \u001b[0m_\u001b[0m \u001b[0;34m=\u001b[0m \u001b[0mtrain_test_stats\u001b[0m\u001b[0;34m(\u001b[0m\u001b[0mseries_col\u001b[0m\u001b[0;34m,\u001b[0m \u001b[0mhorizon\u001b[0m\u001b[0;34m)\u001b[0m\u001b[0;34m\u001b[0m\u001b[0;34m\u001b[0m\u001b[0m\n\u001b[1;32m     38\u001b[0m                 \u001b[0mtrain_tf_row\u001b[0m \u001b[0;34m=\u001b[0m \u001b[0mtransform_train\u001b[0m\u001b[0;34m(\u001b[0m\u001b[0mtrain_row\u001b[0m\u001b[0;34m,\u001b[0m \u001b[0mformat\u001b[0m\u001b[0;34m=\u001b[0m\u001b[0mtransform\u001b[0m\u001b[0;34m)\u001b[0m\u001b[0;34m\u001b[0m\u001b[0;34m\u001b[0m\u001b[0m\n\u001b[0;32m---> 39\u001b[0;31m                 \u001b[0mtrain_tf_col\u001b[0m \u001b[0;34m=\u001b[0m \u001b[0mtransform_train\u001b[0m\u001b[0;34m(\u001b[0m\u001b[0mtrain_col\u001b[0m\u001b[0;34m,\u001b[0m \u001b[0mformat\u001b[0m\u001b[0;34m=\u001b[0m\u001b[0mtransform\u001b[0m\u001b[0;34m)\u001b[0m\u001b[0;34m\u001b[0m\u001b[0;34m\u001b[0m\u001b[0m\n\u001b[0m\u001b[1;32m     40\u001b[0m                 \u001b[0mmatrix\u001b[0m\u001b[0;34m.\u001b[0m\u001b[0mat\u001b[0m\u001b[0;34m[\u001b[0m\u001b[0mrow_header\u001b[0m\u001b[0;34m,\u001b[0m \u001b[0mcol_header\u001b[0m\u001b[0;34m]\u001b[0m \u001b[0;34m=\u001b[0m \u001b[0meuclidean_dist\u001b[0m\u001b[0;34m(\u001b[0m\u001b[0mtrain_tf_row\u001b[0m\u001b[0;34m,\u001b[0m \u001b[0mtrain_tf_col\u001b[0m\u001b[0;34m)\u001b[0m\u001b[0;34m\u001b[0m\u001b[0;34m\u001b[0m\u001b[0m\n\u001b[1;32m     41\u001b[0m \u001b[0;34m\u001b[0m\u001b[0m\n\u001b[1;32m     42\u001b[0m     \u001b[0;32mreturn\u001b[0m \u001b[0mmatrix\u001b[0m\u001b[0;34m\u001b[0m\u001b[0;34m\u001b[0m\u001b[0m\n",
      "\u001b[0;32m~/Documents/Statistics_and_Seq2Seq/all_functions.py\u001b[0m in \u001b[0;36m?\u001b[0;34m(series_transform, format, horizon)\u001b[0m\n\u001b[1;32m    207\u001b[0m         \u001b[0mseries_ts\u001b[0m \u001b[0;34m=\u001b[0m \u001b[0mnp\u001b[0m\u001b[0;34m.\u001b[0m\u001b[0mlog\u001b[0m\u001b[0;34m(\u001b[0m\u001b[0mseries_ds\u001b[0m \u001b[0;34m+\u001b[0m \u001b[0mconstante\u001b[0m\u001b[0;34m)\u001b[0m\u001b[0;34m\u001b[0m\u001b[0;34m\u001b[0m\u001b[0m\n\u001b[1;32m    208\u001b[0m         \u001b[0mseries_ts_norm\u001b[0m\u001b[0;34m,\u001b[0m \u001b[0m_\u001b[0m\u001b[0;34m,\u001b[0m \u001b[0m_\u001b[0m \u001b[0;34m=\u001b[0m \u001b[0mrolling_window_series\u001b[0m\u001b[0;34m(\u001b[0m\u001b[0mseries_ts\u001b[0m\u001b[0;34m,\u001b[0m \u001b[0mhorizon\u001b[0m\u001b[0;34m)\u001b[0m\u001b[0;34m\u001b[0m\u001b[0;34m\u001b[0m\u001b[0m\n\u001b[1;32m    209\u001b[0m         \u001b[0;32mreturn\u001b[0m \u001b[0mseries_ts_norm\u001b[0m\u001b[0;34m\u001b[0m\u001b[0;34m\u001b[0m\u001b[0m\n\u001b[1;32m    210\u001b[0m     \u001b[0;31m#normal\u001b[0m\u001b[0;34m\u001b[0m\u001b[0;34m\u001b[0m\u001b[0m\n\u001b[0;32m--> 211\u001b[0;31m     \u001b[0mseries_transform_norm\u001b[0m\u001b[0;34m,\u001b[0m \u001b[0m_\u001b[0m\u001b[0;34m,\u001b[0m \u001b[0m_\u001b[0m \u001b[0;34m=\u001b[0m \u001b[0mrolling_window_series\u001b[0m\u001b[0;34m(\u001b[0m\u001b[0mseries_transform\u001b[0m\u001b[0;34m,\u001b[0m \u001b[0mhorizon\u001b[0m\u001b[0;34m)\u001b[0m\u001b[0;34m\u001b[0m\u001b[0;34m\u001b[0m\u001b[0m\n\u001b[0m\u001b[1;32m    212\u001b[0m     \u001b[0;32mreturn\u001b[0m \u001b[0mseries_transform_norm\u001b[0m\u001b[0;34m\u001b[0m\u001b[0;34m\u001b[0m\u001b[0m\n",
      "\u001b[0;32m~/Documents/Statistics_and_Seq2Seq/all_functions.py\u001b[0m in \u001b[0;36m?\u001b[0;34m(series, window)\u001b[0m\n\u001b[1;32m    105\u001b[0m     \u001b[0;32mfor\u001b[0m \u001b[0mi\u001b[0m \u001b[0;32min\u001b[0m \u001b[0mrange\u001b[0m\u001b[0;34m(\u001b[0m\u001b[0mlen\u001b[0m\u001b[0;34m(\u001b[0m\u001b[0mseries\u001b[0m\u001b[0;34m)\u001b[0m\u001b[0;34m-\u001b[0m\u001b[0mwindow\u001b[0m\u001b[0;34m)\u001b[0m\u001b[0;34m:\u001b[0m\u001b[0;34m\u001b[0m\u001b[0;34m\u001b[0m\u001b[0m\n\u001b[1;32m    106\u001b[0m         \u001b[0mwindow_values\u001b[0m \u001b[0;34m=\u001b[0m \u001b[0mseries\u001b[0m\u001b[0;34m.\u001b[0m\u001b[0miloc\u001b[0m\u001b[0;34m[\u001b[0m\u001b[0mi\u001b[0m\u001b[0;34m:\u001b[0m\u001b[0mi\u001b[0m\u001b[0;34m+\u001b[0m\u001b[0mwindow\u001b[0m\u001b[0;34m+\u001b[0m\u001b[0;36m1\u001b[0m\u001b[0;34m]\u001b[0m\u001b[0;34m.\u001b[0m\u001b[0mvalues\u001b[0m\u001b[0;34m\u001b[0m\u001b[0;34m\u001b[0m\u001b[0m\n\u001b[1;32m    107\u001b[0m         \u001b[0mnormalized_values\u001b[0m \u001b[0;34m=\u001b[0m \u001b[0mznorm\u001b[0m\u001b[0;34m(\u001b[0m\u001b[0mwindow_values\u001b[0m\u001b[0;34m)\u001b[0m\u001b[0;34m\u001b[0m\u001b[0;34m\u001b[0m\u001b[0m\n\u001b[1;32m    108\u001b[0m         \u001b[0mresult_series\u001b[0m\u001b[0;34m.\u001b[0m\u001b[0miloc\u001b[0m\u001b[0;34m[\u001b[0m\u001b[0mi\u001b[0m\u001b[0;34m:\u001b[0m\u001b[0mi\u001b[0m\u001b[0;34m+\u001b[0m\u001b[0mwindow\u001b[0m\u001b[0;34m+\u001b[0m\u001b[0;36m1\u001b[0m\u001b[0;34m]\u001b[0m \u001b[0;34m=\u001b[0m \u001b[0mnormalized_values\u001b[0m\u001b[0;34m\u001b[0m\u001b[0;34m\u001b[0m\u001b[0m\n\u001b[0;32m--> 109\u001b[0;31m         \u001b[0mmean\u001b[0m \u001b[0;34m=\u001b[0m \u001b[0mnp\u001b[0m\u001b[0;34m.\u001b[0m\u001b[0mmean\u001b[0m\u001b[0;34m(\u001b[0m\u001b[0mseries\u001b[0m\u001b[0;34m.\u001b[0m\u001b[0miloc\u001b[0m\u001b[0;34m[\u001b[0m\u001b[0mi\u001b[0m\u001b[0;34m:\u001b[0m\u001b[0mi\u001b[0m\u001b[0;34m+\u001b[0m\u001b[0mwindow\u001b[0m\u001b[0;34m+\u001b[0m\u001b[0;36m1\u001b[0m\u001b[0;34m]\u001b[0m\u001b[0;34m)\u001b[0m\u001b[0;34m\u001b[0m\u001b[0;34m\u001b[0m\u001b[0m\n\u001b[0m\u001b[1;32m    110\u001b[0m         \u001b[0mstd\u001b[0m \u001b[0;34m=\u001b[0m \u001b[0mnp\u001b[0m\u001b[0;34m.\u001b[0m\u001b[0mstd\u001b[0m\u001b[0;34m(\u001b[0m\u001b[0mseries\u001b[0m\u001b[0;34m.\u001b[0m\u001b[0miloc\u001b[0m\u001b[0;34m[\u001b[0m\u001b[0mi\u001b[0m\u001b[0;34m:\u001b[0m\u001b[0mi\u001b[0m\u001b[0;34m+\u001b[0m\u001b[0mwindow\u001b[0m\u001b[0;34m+\u001b[0m\u001b[0;36m1\u001b[0m\u001b[0;34m]\u001b[0m\u001b[0;34m)\u001b[0m\u001b[0;34m\u001b[0m\u001b[0;34m\u001b[0m\u001b[0m\n\u001b[1;32m    111\u001b[0m     \u001b[0;32mreturn\u001b[0m \u001b[0mresult_series\u001b[0m\u001b[0;34m,\u001b[0m \u001b[0mmean\u001b[0m\u001b[0;34m,\u001b[0m \u001b[0mstd\u001b[0m\u001b[0;34m\u001b[0m\u001b[0;34m\u001b[0m\u001b[0m\n",
      "\u001b[0;32m~/anaconda3/lib/python3.11/site-packages/numpy/core/fromnumeric.py\u001b[0m in \u001b[0;36m?\u001b[0;34m(a, axis, dtype, out, keepdims, where)\u001b[0m\n\u001b[1;32m   3498\u001b[0m             \u001b[0mmean\u001b[0m \u001b[0;34m=\u001b[0m \u001b[0ma\u001b[0m\u001b[0;34m.\u001b[0m\u001b[0mmean\u001b[0m\u001b[0;34m\u001b[0m\u001b[0;34m\u001b[0m\u001b[0m\n\u001b[1;32m   3499\u001b[0m         \u001b[0;32mexcept\u001b[0m \u001b[0mAttributeError\u001b[0m\u001b[0;34m:\u001b[0m\u001b[0;34m\u001b[0m\u001b[0;34m\u001b[0m\u001b[0m\n\u001b[1;32m   3500\u001b[0m             \u001b[0;32mpass\u001b[0m\u001b[0;34m\u001b[0m\u001b[0;34m\u001b[0m\u001b[0m\n\u001b[1;32m   3501\u001b[0m         \u001b[0;32melse\u001b[0m\u001b[0;34m:\u001b[0m\u001b[0;34m\u001b[0m\u001b[0;34m\u001b[0m\u001b[0m\n\u001b[0;32m-> 3502\u001b[0;31m             \u001b[0;32mreturn\u001b[0m \u001b[0mmean\u001b[0m\u001b[0;34m(\u001b[0m\u001b[0maxis\u001b[0m\u001b[0;34m=\u001b[0m\u001b[0maxis\u001b[0m\u001b[0;34m,\u001b[0m \u001b[0mdtype\u001b[0m\u001b[0;34m=\u001b[0m\u001b[0mdtype\u001b[0m\u001b[0;34m,\u001b[0m \u001b[0mout\u001b[0m\u001b[0;34m=\u001b[0m\u001b[0mout\u001b[0m\u001b[0;34m,\u001b[0m \u001b[0;34m**\u001b[0m\u001b[0mkwargs\u001b[0m\u001b[0;34m)\u001b[0m\u001b[0;34m\u001b[0m\u001b[0;34m\u001b[0m\u001b[0m\n\u001b[0m\u001b[1;32m   3503\u001b[0m \u001b[0;34m\u001b[0m\u001b[0m\n\u001b[1;32m   3504\u001b[0m     return _methods._mean(a, axis=axis, dtype=dtype,\n\u001b[1;32m   3505\u001b[0m                           out=out, **kwargs)\n",
      "\u001b[0;32m~/anaconda3/lib/python3.11/site-packages/pandas/core/generic.py\u001b[0m in \u001b[0;36m?\u001b[0;34m(self, axis, skipna, numeric_only, **kwargs)\u001b[0m\n\u001b[1;32m  11552\u001b[0m             \u001b[0mskipna\u001b[0m\u001b[0;34m:\u001b[0m \u001b[0mbool_t\u001b[0m \u001b[0;34m=\u001b[0m \u001b[0;32mTrue\u001b[0m\u001b[0;34m,\u001b[0m\u001b[0;34m\u001b[0m\u001b[0;34m\u001b[0m\u001b[0m\n\u001b[1;32m  11553\u001b[0m             \u001b[0mnumeric_only\u001b[0m\u001b[0;34m:\u001b[0m \u001b[0mbool_t\u001b[0m \u001b[0;34m=\u001b[0m \u001b[0;32mFalse\u001b[0m\u001b[0;34m,\u001b[0m\u001b[0;34m\u001b[0m\u001b[0;34m\u001b[0m\u001b[0m\n\u001b[1;32m  11554\u001b[0m             \u001b[0;34m**\u001b[0m\u001b[0mkwargs\u001b[0m\u001b[0;34m,\u001b[0m\u001b[0;34m\u001b[0m\u001b[0;34m\u001b[0m\u001b[0m\n\u001b[1;32m  11555\u001b[0m         ):\n\u001b[0;32m> 11556\u001b[0;31m             \u001b[0;32mreturn\u001b[0m \u001b[0mNDFrame\u001b[0m\u001b[0;34m.\u001b[0m\u001b[0mmean\u001b[0m\u001b[0;34m(\u001b[0m\u001b[0mself\u001b[0m\u001b[0;34m,\u001b[0m \u001b[0maxis\u001b[0m\u001b[0;34m,\u001b[0m \u001b[0mskipna\u001b[0m\u001b[0;34m,\u001b[0m \u001b[0mnumeric_only\u001b[0m\u001b[0;34m,\u001b[0m \u001b[0;34m**\u001b[0m\u001b[0mkwargs\u001b[0m\u001b[0;34m)\u001b[0m\u001b[0;34m\u001b[0m\u001b[0;34m\u001b[0m\u001b[0m\n\u001b[0m",
      "\u001b[0;32m~/anaconda3/lib/python3.11/site-packages/pandas/core/generic.py\u001b[0m in \u001b[0;36m?\u001b[0;34m(self, axis, skipna, numeric_only, **kwargs)\u001b[0m\n\u001b[0;32m> 11194\u001b[0;31m     def mean(\n\u001b[0m\u001b[1;32m  11195\u001b[0m         \u001b[0mself\u001b[0m\u001b[0;34m,\u001b[0m\u001b[0;34m\u001b[0m\u001b[0;34m\u001b[0m\u001b[0m\n\u001b[1;32m  11196\u001b[0m         \u001b[0maxis\u001b[0m\u001b[0;34m:\u001b[0m \u001b[0mAxis\u001b[0m \u001b[0;34m|\u001b[0m \u001b[0;32mNone\u001b[0m \u001b[0;34m=\u001b[0m \u001b[0;36m0\u001b[0m\u001b[0;34m,\u001b[0m\u001b[0;34m\u001b[0m\u001b[0;34m\u001b[0m\u001b[0m\n\u001b[1;32m  11197\u001b[0m         \u001b[0mskipna\u001b[0m\u001b[0;34m:\u001b[0m \u001b[0mbool_t\u001b[0m \u001b[0;34m=\u001b[0m \u001b[0;32mTrue\u001b[0m\u001b[0;34m,\u001b[0m\u001b[0;34m\u001b[0m\u001b[0;34m\u001b[0m\u001b[0m\n",
      "\u001b[0;31mKeyboardInterrupt\u001b[0m: "
     ]
    }
   ],
   "source": [
    "derivado = \"gasolinac\"\n",
    "path_derivado = path_datasets+\"/\"+derivado\n",
    "matrix = make_matrix(path_derivado)\n",
    "matrix_euclid = euclidean_series(matrix, path_derivado, \"normal\")"
   ]
  },
  {
   "cell_type": "code",
   "execution_count": null,
   "metadata": {},
   "outputs": [
    {
     "data": {
      "text/plain": [
       "['SP', 'MG', 'MS']"
      ]
     },
     "execution_count": 50,
     "metadata": {},
     "output_type": "execute_result"
    }
   ],
   "source": [
    "euclidean_states = similar_states(matrix_euclid, 3, \"PR\").keys().tolist()\n",
    "euclidean_states"
   ]
  },
  {
   "cell_type": "code",
   "execution_count": null,
   "metadata": {},
   "outputs": [],
   "source": [
    "#teste\n",
    "train_dict = {}\n",
    "test_dict = {}\n",
    "train_tf_dict = {}\n",
    "\n",
    "for transform in [\"normal\"]:\n",
    "    for file in os.listdir(path_derivado):\n",
    "        if file.endswith('.csv'):\n",
    "            full_path = os.path.join(path_derivado, file)\n",
    "            uf = file.split(\"_\")[1].upper()\n",
    "            series = read_series(full_path)\n",
    "            #teste\n",
    "            train, test = train_test_stats(series, horizon)\n",
    "            train_tf = transform_train(train, format=transform)\n",
    "            train_tf_dict[uf] = train_tf\n",
    "            test_dict[uf] = test\n",
    "            train_dict[uf] = train\n",
    "\n",
    "\n",
    "    #teste\n",
    "    df_train_tf = pd.DataFrame(train_tf_dict)\n",
    "    df_test = pd.DataFrame(test_dict)\n",
    "    df_train = pd.DataFrame(train_dict)\n",
    "        "
   ]
  },
  {
   "cell_type": "code",
   "execution_count": null,
   "metadata": {},
   "outputs": [
    {
     "data": {
      "text/html": [
       "<div>\n",
       "<style scoped>\n",
       "    .dataframe tbody tr th:only-of-type {\n",
       "        vertical-align: middle;\n",
       "    }\n",
       "\n",
       "    .dataframe tbody tr th {\n",
       "        vertical-align: top;\n",
       "    }\n",
       "\n",
       "    .dataframe thead th {\n",
       "        text-align: right;\n",
       "    }\n",
       "</style>\n",
       "<table border=\"1\" class=\"dataframe\">\n",
       "  <thead>\n",
       "    <tr style=\"text-align: right;\">\n",
       "      <th></th>\n",
       "      <th>PR</th>\n",
       "      <th>BA</th>\n",
       "      <th>RJ</th>\n",
       "    </tr>\n",
       "    <tr>\n",
       "      <th>timestamp</th>\n",
       "      <th></th>\n",
       "      <th></th>\n",
       "      <th></th>\n",
       "    </tr>\n",
       "  </thead>\n",
       "  <tbody>\n",
       "    <tr>\n",
       "      <th>1990-01</th>\n",
       "      <td>0.390246</td>\n",
       "      <td>0.863742</td>\n",
       "      <td>0.789961</td>\n",
       "    </tr>\n",
       "    <tr>\n",
       "      <th>1990-02</th>\n",
       "      <td>-0.917290</td>\n",
       "      <td>-0.928992</td>\n",
       "      <td>-0.157300</td>\n",
       "    </tr>\n",
       "    <tr>\n",
       "      <th>1990-03</th>\n",
       "      <td>-1.148633</td>\n",
       "      <td>-1.191144</td>\n",
       "      <td>-1.149570</td>\n",
       "    </tr>\n",
       "    <tr>\n",
       "      <th>1990-04</th>\n",
       "      <td>0.146124</td>\n",
       "      <td>1.157658</td>\n",
       "      <td>1.382457</td>\n",
       "    </tr>\n",
       "    <tr>\n",
       "      <th>1990-05</th>\n",
       "      <td>-0.428578</td>\n",
       "      <td>-0.819701</td>\n",
       "      <td>-0.599564</td>\n",
       "    </tr>\n",
       "    <tr>\n",
       "      <th>...</th>\n",
       "      <td>...</td>\n",
       "      <td>...</td>\n",
       "      <td>...</td>\n",
       "    </tr>\n",
       "    <tr>\n",
       "      <th>2022-10</th>\n",
       "      <td>0.730287</td>\n",
       "      <td>0.403282</td>\n",
       "      <td>0.866871</td>\n",
       "    </tr>\n",
       "    <tr>\n",
       "      <th>2022-11</th>\n",
       "      <td>0.470978</td>\n",
       "      <td>-0.262365</td>\n",
       "      <td>0.492215</td>\n",
       "    </tr>\n",
       "    <tr>\n",
       "      <th>2022-12</th>\n",
       "      <td>2.423900</td>\n",
       "      <td>2.160150</td>\n",
       "      <td>1.956153</td>\n",
       "    </tr>\n",
       "    <tr>\n",
       "      <th>2023-01</th>\n",
       "      <td>0.277524</td>\n",
       "      <td>0.885148</td>\n",
       "      <td>0.741185</td>\n",
       "    </tr>\n",
       "    <tr>\n",
       "      <th>2023-02</th>\n",
       "      <td>0.484522</td>\n",
       "      <td>0.483559</td>\n",
       "      <td>0.831404</td>\n",
       "    </tr>\n",
       "  </tbody>\n",
       "</table>\n",
       "<p>398 rows × 3 columns</p>\n",
       "</div>"
      ],
      "text/plain": [
       "                 PR        BA        RJ\n",
       "timestamp                              \n",
       "1990-01    0.390246  0.863742  0.789961\n",
       "1990-02   -0.917290 -0.928992 -0.157300\n",
       "1990-03   -1.148633 -1.191144 -1.149570\n",
       "1990-04    0.146124  1.157658  1.382457\n",
       "1990-05   -0.428578 -0.819701 -0.599564\n",
       "...             ...       ...       ...\n",
       "2022-10    0.730287  0.403282  0.866871\n",
       "2022-11    0.470978 -0.262365  0.492215\n",
       "2022-12    2.423900  2.160150  1.956153\n",
       "2023-01    0.277524  0.885148  0.741185\n",
       "2023-02    0.484522  0.483559  0.831404\n",
       "\n",
       "[398 rows x 3 columns]"
      ]
     },
     "execution_count": 43,
     "metadata": {},
     "output_type": "execute_result"
    }
   ],
   "source": [
    "df_train_tf[euclidean_states]"
   ]
  }
 ],
 "metadata": {
  "kernelspec": {
   "display_name": "base",
   "language": "python",
   "name": "python3"
  },
  "language_info": {
   "codemirror_mode": {
    "name": "ipython",
    "version": 3
   },
   "file_extension": ".py",
   "mimetype": "text/x-python",
   "name": "python",
   "nbconvert_exporter": "python",
   "pygments_lexer": "ipython3",
   "version": "3.11.7"
  }
 },
 "nbformat": 4,
 "nbformat_minor": 2
}
