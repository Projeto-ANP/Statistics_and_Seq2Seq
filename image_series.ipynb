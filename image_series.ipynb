{
 "cells": [
  {
   "cell_type": "code",
   "execution_count": 12,
   "metadata": {},
   "outputs": [],
   "source": [
    "from all_functions import *\n",
    "from sklearn.metrics import mean_absolute_percentage_error as mape\n",
    "from aeon.visualisation import plot_series\n",
    "import pywt\n",
    "from scipy import signal\n",
    "from pyts.image import MarkovTransitionField\n",
    "from pyts.image import GramianAngularField\n",
    "from pyts.image import RecurrencePlot\n",
    "from sklearn.ensemble import RandomForestRegressor\n",
    "from sklearn.linear_model import Ridge, RidgeCV, HuberRegressor, Lasso, LassoLarsCV\n",
    "from aeon.transformations.collection.convolution_based import (\n",
    "    MiniRocket,\n",
    "    Rocket,\n",
    "    MiniRocketMultivariateVariable,\n",
    ")\n",
    "import warnings\n",
    "\n",
    "def rolling_window_image_concat(series, window, rep1, rep2, wavelet1, wavelet2, level1, level2):\n",
    "  data = []\n",
    "  for i in range(len(series)-window):\n",
    "    example = np.array(series[i:i+window+1])\n",
    "    target = example[-1]\n",
    "\n",
    "    features = np.delete(example, -1)\n",
    "    features_norm = znorm(features)\n",
    "    \n",
    "    target_norm = znorm_by(target, features)\n",
    "\n",
    "    rep_features1 = transform_series(features_norm, rep1, wavelet1, level1)\n",
    "    rep_features2 = transform_series(features_norm, rep2, wavelet2, level2)\n",
    "\n",
    "    reps = np.concatenate((rep_features1.flatten(),rep_features2.flatten()))\n",
    "    feat_target = np.concatenate((reps, [target_norm]))\n",
    "    data.append(feat_target)\n",
    "  df = pd.DataFrame(data)\n",
    "  return df"
   ]
  },
  {
   "cell_type": "code",
   "execution_count": 13,
   "metadata": {},
   "outputs": [
    {
     "data": {
      "text/plain": [
       "timestamp\n",
       "2023-03    900752.992853\n",
       "2023-04    857056.002547\n",
       "2023-05    866154.194099\n",
       "2023-06    788434.300048\n",
       "2023-07    818938.844821\n",
       "2023-08    842792.925431\n",
       "2023-09    843001.053706\n",
       "2023-10    859150.711532\n",
       "2023-11    849777.551065\n",
       "2023-12    959250.325640\n",
       "2024-01    810175.287448\n",
       "2024-02    810572.379248\n",
       "Freq: M, dtype: float64"
      ]
     },
     "execution_count": 13,
     "metadata": {},
     "output_type": "execute_result"
    }
   ],
   "source": [
    "representation = \"SWT\"\n",
    "rep1 = \"DWT\"\n",
    "rep2 = \"SWT\"\n",
    "window = 36\n",
    "horizon = 12\n",
    "transform = \"deseasonal\"\n",
    "derivado = \"gasolinac\"\n",
    "estado = \"SP\"\n",
    "series = read_series(f'../datasets/venda/mensal/uf/{derivado}/mensal_{estado.lower()}_{derivado}.csv')\n",
    "train, test = train_test_stats(series, horizon)\n",
    "train_tf = transform_train(train, format=\"normal\")\n",
    "# wavelet = \"db4\"\n",
    "level = 2\n",
    "data = rolling_window_image_concat(pd.concat([train_tf, pd.Series([0,0,0,0,0,0,0,0,0,0,0,0], index=test.index)]), window, rep1, rep2, \"bior2.2\", \"bior3.3\", 8, 2)\n",
    "X_train, X_test, y_train, _ = train_test_split(data, horizon)\n",
    "rg = RidgeCV(alphas=np.logspace(-3, 3, 10))\n",
    "rg.fit(X_train, y_train)\n",
    "    \n",
    "predictions = recursive_multistep_forecasting(X_test, rg, horizon)\n",
    "preds = pd.Series(predictions, index=test.index)\n",
    "preds_concat = reverse_regressors(train, preds, format=transform)\n",
    "preds_concat"
   ]
  },
  {
   "cell_type": "code",
   "execution_count": 21,
   "metadata": {},
   "outputs": [
    {
     "data": {
      "text/plain": [
       "timestamp\n",
       "2023-03    887581.700184\n",
       "2023-04    857943.807993\n",
       "2023-05    859519.433449\n",
       "2023-06    821838.063375\n",
       "2023-07    836419.594585\n",
       "2023-08    854595.076466\n",
       "2023-09    815099.322180\n",
       "2023-10    849033.304975\n",
       "2023-11    854416.916856\n",
       "2023-12    990938.779945\n",
       "2024-01    811771.752882\n",
       "2024-02    819180.294710\n",
       "Freq: M, dtype: float64"
      ]
     },
     "execution_count": 21,
     "metadata": {},
     "output_type": "execute_result"
    }
   ],
   "source": [
    "wavelet = \"bior3.3\"\n",
    "window = 60\n",
    "representation = \"SWT\"\n",
    "level = 1\n",
    "data = rolling_window_image(pd.concat([train_tf, pd.Series([0,0,0,0,0,0,0,0,0,0,0,0], index=test.index)]), window, representation, wavelet, level)\n",
    "X_train, X_test, y_train, _ = train_test_split(data, horizon)\n",
    "rg = RidgeCV(alphas=np.logspace(-3, 3, 10))\n",
    "rg.fit(X_train, y_train)\n",
    "    \n",
    "predictions = recursive_multistep_forecasting(X_test, rg, horizon)\n",
    "preds = pd.Series(predictions, index=test.index)\n",
    "preds_mexh = reverse_regressors(train, preds, format=transform)\n",
    "preds_mexh"
   ]
  },
  {
   "cell_type": "code",
   "execution_count": 15,
   "metadata": {},
   "outputs": [],
   "source": [
    "# data = rolling_window_image(pd.concat([train_tf, pd.Series([0,0,0,0,0,0,0,0,0,0,0,0], index=test.index)]), window, representation)\n",
    "# X_train, X_test, y_train, _ = train_test_split(data, horizon)\n",
    "\n",
    "# minirocket = Rocket(num_kernels=1000)  # by default, MiniRocket uses ~10_000 kernels\n",
    "# minirocket.fit(X_train)\n",
    "\n",
    "# X_train_transform = minirocket.transform(X_train)\n",
    "\n",
    "# # classifier = RidgeCV(alphas=np.logspace(-3, 3, 10))\n",
    "# classifier = RandomForestRegressor()\n",
    "# classifier.fit(pd.DataFrame(X_train_transform), y_train)\n",
    "\n",
    "# X_test_transform = minirocket.transform(X_test)\n",
    "\n",
    "# predictions = recursive_multistep_rocket(X_test, minirocket, classifier, horizon)\n",
    "# preds = pd.Series(predictions, index=test.index)\n",
    "# preds_rocket = reverse_regressors(train, preds, format=transform)"
   ]
  },
  {
   "cell_type": "code",
   "execution_count": 16,
   "metadata": {},
   "outputs": [],
   "source": [
    "# # plot_series(test, preds_deseasonal, preds_rf,preds_rocket, labels=[\"Test\", \"CWT- 36 - RIDGE\",\"CWT- 36 - RF\", \"CWT - 36 - ROCKET - RIDGE\"], title=f\"{derivado} em {estado}\")\n",
    "# plot_series(test,\n",
    "#              preds_deseasonal, \n",
    "#             preds_mexh,\n",
    "#             preds_morl,\n",
    "#             labels=[\"Test\", \"CWT- 36 - RIDGE morl+mexh\",\n",
    "#                 \"CWT- 36 - RIDGE mexh\",\n",
    "#                 \"CWT- 36 - RIDGE morl\"\n",
    "#                     ], \n",
    "#                     title=f\"{derivado} em {estado}\")"
   ]
  }
 ],
 "metadata": {
  "kernelspec": {
   "display_name": "lucas",
   "language": "python",
   "name": "python3"
  },
  "language_info": {
   "codemirror_mode": {
    "name": "ipython",
    "version": 3
   },
   "file_extension": ".py",
   "mimetype": "text/x-python",
   "name": "python",
   "nbconvert_exporter": "python",
   "pygments_lexer": "ipython3",
   "version": "3.11.7"
  }
 },
 "nbformat": 4,
 "nbformat_minor": 2
}
