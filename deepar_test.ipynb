{
 "cells": [
  {
   "cell_type": "code",
   "execution_count": 1,
   "metadata": {},
   "outputs": [],
   "source": [
    "from all_functions import *\n",
    "import pandas as pd\n",
    "import matplotlib.pyplot as plt\n",
    "import os\n",
    "import csv\n",
    "import torch\n",
    "from gluonts.dataset.pandas import PandasDataset\n",
    "from gluonts.dataset.split import split\n",
    "from gluonts.torch import DeepAREstimator\n",
    "from gluonts.evaluation.backtest import make_evaluation_predictions\n",
    "from mango import scheduler, Tuner\n",
    "import random\n",
    "import torch\n",
    "torch.set_float32_matmul_precision('medium')\n",
    "\n",
    "\n",
    "def get_train_test_deepar(train_norm, test_norm):\n",
    "    concat_norm = pd.concat([train_norm, test_norm])\n",
    "    dataset_norm = PandasDataset(concat_norm, target=\"value\")\n",
    "    # test_ds = PandasDataset(test_norm, target=\"value\")\n",
    "    training_data, test_gen = split(dataset_norm, offset=-12)\n",
    "    test_data = test_gen.generate_instances(prediction_length=12, windows=1)\n",
    "    return training_data, test_data\n",
    "\n",
    "def set_seed(seed_value):\n",
    "    np.random.seed(seed_value)\n",
    "    random.seed(seed_value)\n",
    "    torch.manual_seed(seed_value)\n",
    "    if torch.cuda.is_available():\n",
    "        torch.cuda.manual_seed_all(seed_value)\n",
    "\n",
    "# Definir a semente desejada\n",
    "seed_value = 42\n",
    "set_seed(seed_value)"
   ]
  },
  {
   "cell_type": "code",
   "execution_count": 9,
   "metadata": {},
   "outputs": [
    {
     "data": {
      "text/plain": [
       "(timestamp\n",
       " 1990-01    553.8920\n",
       " 1990-02    675.2730\n",
       " 1990-03     37.5320\n",
       " 1990-04    354.1935\n",
       " 1990-05    670.8550\n",
       "              ...   \n",
       " 2003-10    645.6520\n",
       " 2003-11      0.0000\n",
       " 2003-12    303.5550\n",
       " 2004-01    320.7440\n",
       " 2004-02    308.7130\n",
       " Freq: M, Name: m3, Length: 170, dtype: float64,\n",
       " timestamp\n",
       " 2004-03     39.100\n",
       " 2004-04    311.866\n",
       " 2004-05    606.889\n",
       " 2004-06    312.031\n",
       " 2004-07    646.565\n",
       " 2004-08    759.830\n",
       " 2004-09    405.617\n",
       " 2004-10    490.394\n",
       " 2004-11    388.312\n",
       " 2004-12    669.795\n",
       " 2005-01    212.143\n",
       " 2005-02    495.181\n",
       " Freq: M, Name: m3, dtype: float64)"
      ]
     },
     "execution_count": 9,
     "metadata": {},
     "output_type": "execute_result"
    }
   ],
   "source": [
    "global horizon\n",
    "window = 12\n",
    "horizon = 12\n",
    "derivado = \"querosenedeaviacao\"\n",
    "estado = \"RR\"\n",
    "series = read_series(f'../datasets/venda/mensal/uf/{derivado}/mensal_{estado.lower()}_{derivado}.csv')\n",
    "train_test_splits = []\n",
    "min_train_size = 36\n",
    "\n",
    "aux_series = series\n",
    "while len(aux_series) > horizon + min_train_size:\n",
    "    train, test = aux_series[:-horizon], aux_series[-horizon:]\n",
    "    train_test_splits.append((train, test))\n",
    "    aux_series = train\n",
    "#{'context_length': 12, 'num_layers': 2, 'batch_size': 32, 'max_epochs': 30, 'num_batches_per_epoch': 20}\n",
    "\n",
    "train_test_splits[19]"
   ]
  }
 ],
 "metadata": {
  "kernelspec": {
   "display_name": "lucas",
   "language": "python",
   "name": "python3"
  },
  "language_info": {
   "codemirror_mode": {
    "name": "ipython",
    "version": 3
   },
   "file_extension": ".py",
   "mimetype": "text/x-python",
   "name": "python",
   "nbconvert_exporter": "python",
   "pygments_lexer": "ipython3",
   "version": "3.11.7"
  }
 },
 "nbformat": 4,
 "nbformat_minor": 2
}
