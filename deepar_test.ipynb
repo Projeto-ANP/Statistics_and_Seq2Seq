{
 "cells": [
  {
   "cell_type": "code",
   "execution_count": 1,
   "metadata": {},
   "outputs": [
    {
     "name": "stderr",
     "output_type": "stream",
     "text": [
      "/home/anp/anaconda3/lib/python3.11/site-packages/aeon/base/__init__.py:24: FutureWarning: The aeon package will soon be releasing v1.0.0 with the removal of legacy modules and interfaces such as BaseTransformer and BaseForecaster. This will contain breaking changes. See aeon-toolkit.org for more information. Set aeon.AEON_DEPRECATION_WARNING or the AEON_DEPRECATION_WARNING environmental variable to 'False' to disable this warning.\n",
      "  warnings.warn(\n"
     ]
    }
   ],
   "source": [
    "from all_functions import *\n",
    "import pandas as pd\n",
    "import matplotlib.pyplot as plt\n",
    "import os\n",
    "import csv\n",
    "from gluonts.dataset.pandas import PandasDataset\n",
    "from gluonts.dataset.split import split\n",
    "from gluonts.torch import DeepAREstimator\n",
    "from gluonts.evaluation.backtest import make_evaluation_predictions\n",
    "from mango import scheduler, Tuner\n",
    "\n",
    "def objective(args_list):\n",
    "    global train_v_data, train_v_real, test_v_data, test_v_real\n",
    "    results = []\n",
    "    params_evaluated = []\n",
    "    for params in args_list:\n",
    "        try:\n",
    "            predictor = DeepAREstimator(\n",
    "                prediction_length=12, freq=\"M\", \n",
    "                context_length = int(params['context_length']),\n",
    "                num_layers=params[\"num_layers\"],\n",
    "                # hidden_size=params[\"hidden_size\"],\n",
    "                batch_size= int(params['mini_batch_size']),\n",
    "                dropout_rate = params['dropout_rate'],\n",
    "                # num_cells = int(params['num_cells']),\n",
    "                # num_layers = int(params['num_layers']),\n",
    "                # embedding_dimension = int(params['embedding_dimension']),\n",
    "                trainer_kwargs={\n",
    "                    # \"learning_rate\": params['learning_rate'],\n",
    "                    \"accelerator\": \"gpu\",\n",
    "                    \"enable_progress_bar\": False,\n",
    "                    \"enable_model_summary\": False,\n",
    "                    \"max_epochs\": 50\n",
    "                    # \"mini_batch_size\": int(params['mini_batch_size']),\n",
    "                    }\n",
    "            ).train(train_v_data)\n",
    "            \n",
    "            forecast_it = list(predictor.predict(test_v_data.input, num_samples=100))\n",
    "\n",
    "            all_forecasts = []\n",
    "            for forecast in forecast_it:\n",
    "                all_forecasts.append(forecast.mean)\n",
    "            \n",
    "            _, mean, std = rolling_window_series(train_v_real, 12)\n",
    "            preds_real = znorm_reverse(all_forecasts[0], mean, std)\n",
    "\n",
    "            rmse_result = rmse(test_v_real, preds_real)\n",
    "            params_evaluated.append(params)\n",
    "            results.append(rmse_result)\n",
    "        except:\n",
    "            continue\n",
    "    return results\n",
    "\n",
    "\n",
    "def find_best_parameter(train_norm, test_norm, train_real, test_real):\n",
    "    global train_v_data, train_v_real, test_v_data, test_v_real\n",
    "\n",
    "    params_space = {\n",
    "        'context_length': range(1,200),\n",
    "        # 'learning_rate': np.logspace(-5, -1, 10),\n",
    "        'mini_batch_size': range(32, 1029, 32),\n",
    "        # 'num_cells': range(30, 201, 10),\n",
    "        'num_layers': range(1, 9),\n",
    "        'dropout_rate': np.linspace(0.0, 0.2, 5),\n",
    "        # 'embedding_dimension': range(1, 51)\n",
    "    }\n",
    "    conf_Dict = dict()\n",
    "    conf_Dict['num_iteration'] = 15\n",
    "    train_v_data = train_norm\n",
    "    train_v_real = train_real\n",
    "    test_v_data = test_norm\n",
    "    test_v_real = test_real\n",
    "\n",
    "    tuner = Tuner(params_space, objective, conf_Dict)\n",
    "    results_arima = tuner.minimize()\n",
    "\n",
    "    return results_arima\n",
    "\n",
    "def get_train_test_deepar(train_norm, test_norm):\n",
    "    concat_norm = pd.concat([train_norm, test_norm])\n",
    "    dataset_norm = PandasDataset(concat_norm, target=\"value\")\n",
    "    # test_ds = PandasDataset(test_norm, target=\"value\")\n",
    "    training_data, test_gen = split(dataset_norm, offset=-12)\n",
    "    test_data = test_gen.generate_instances(prediction_length=12, windows=1)\n",
    "    return training_data, test_data"
   ]
  },
  {
   "cell_type": "code",
   "execution_count": 2,
   "metadata": {},
   "outputs": [
    {
     "name": "stderr",
     "output_type": "stream",
     "text": [
      "GPU available: True (cuda), used: True\n",
      "TPU available: False, using: 0 TPU cores\n",
      "IPU available: False, using: 0 IPUs\n",
      "HPU available: False, using: 0 HPUs\n",
      "You are using a CUDA device ('NVIDIA GeForce RTX 3060') that has Tensor Cores. To properly utilize them, you should set `torch.set_float32_matmul_precision('medium' | 'high')` which will trade-off precision for performance. For more details, read https://pytorch.org/docs/stable/generated/torch.set_float32_matmul_precision.html#torch.set_float32_matmul_precision\n",
      "2024-08-15 01:54:11.218419: I tensorflow/core/platform/cpu_feature_guard.cc:210] This TensorFlow binary is optimized to use available CPU instructions in performance-critical operations.\n",
      "To enable the following instructions: AVX2 FMA, in other operations, rebuild TensorFlow with the appropriate compiler flags.\n",
      "2024-08-15 01:54:12.365111: W tensorflow/compiler/tf2tensorrt/utils/py_utils.cc:38] TF-TRT Warning: Could not find TensorRT\n",
      "LOCAL_RANK: 0 - CUDA_VISIBLE_DEVICES: [0]\n",
      "GPU available: True (cuda), used: True\n",
      "TPU available: False, using: 0 TPU cores\n",
      "IPU available: False, using: 0 IPUs\n",
      "HPU available: False, using: 0 HPUs\n",
      "LOCAL_RANK: 0 - CUDA_VISIBLE_DEVICES: [0]\n",
      "Epoch 0, global step 50: 'train_loss' reached 1.50327 (best 1.50327), saving model to '/home/anp/Documents/Statistics_and_Seq2Seq/lightning_logs/version_4/checkpoints/epoch=0-step=50.ckpt' as top 1\n",
      "Epoch 1, global step 100: 'train_loss' reached 1.29084 (best 1.29084), saving model to '/home/anp/Documents/Statistics_and_Seq2Seq/lightning_logs/version_4/checkpoints/epoch=1-step=100.ckpt' as top 1\n",
      "Epoch 2, global step 150: 'train_loss' reached 0.99147 (best 0.99147), saving model to '/home/anp/Documents/Statistics_and_Seq2Seq/lightning_logs/version_4/checkpoints/epoch=2-step=150.ckpt' as top 1\n"
     ]
    }
   ],
   "source": [
    "global horizon\n",
    "window = 12\n",
    "horizon = 12\n",
    "derivado = \"gasolinac\"\n",
    "estado = \"SP\"\n",
    "df = read_series(f'../datasets/venda/mensal/uf/{derivado}/mensal_{estado.lower()}_{derivado}.csv')\n",
    "train, test = train_test_stats(df, horizon)\n",
    "train_val, test_val = train_test_stats(train, horizon)\n",
    "\n",
    "#treino\n",
    "train_tf, mean, std = rolling_window_series(train, horizon)\n",
    "test_tf = znorm_mean_std(test, mean, std)\n",
    "train_data, test_data = get_train_test_deepar(train_tf, test_tf)\n",
    "\n",
    "#validacao\n",
    "train_val_tf, mean_val, std_val = rolling_window_series(train_val, horizon)\n",
    "test_val_tf = znorm_mean_std(test_val, mean_val, std_val)\n",
    "train_data_val, test_data_val = get_train_test_deepar(train_val_tf, test_val_tf)\n",
    "\n",
    "results = find_best_parameter(train_data_val, test_data_val, train_val, test_val)\n",
    "\n",
    "predictor = DeepAREstimator(\n",
    "        prediction_length=12,\n",
    "        context_length = int(results['best_params']['context_length']),\n",
    "        num_cells = int(results['best_params']['num_cells']),\n",
    "        num_layers = int(results['best_params']['num_layers']),\n",
    "        embedding_dimension = int(results['best_params']['embedding_dimension']),\n",
    "\n",
    "        prediction_length=12, freq=\"M\", \n",
    "        trainer_kwargs={\n",
    "            \"learning_rate\": results['best_params']['learning_rate'],\n",
    "            \"max_epochs\": 100,\n",
    "            \"batch_size\": int(results['best_params']['mini_batch_size']),\n",
    "            \"num_batches_per_epoch\": results['best_params']['num_batches_per_epoch'],\n",
    "            \"dropout_rate\": results['best_params']['dropout_rate']\n",
    "            }\n",
    "    ).train(train_data)\n",
    "forecasts_it = list(predictor.predict(test_data.input, num_samples=100))\n",
    "all_forecasts = []\n",
    "for forecast in forecasts_it:\n",
    "    all_forecasts.append(forecast.mean)\n",
    "\n",
    "reversed = znorm_reverse(all_forecasts[0], mean, std)\n",
    "print(reversed)"
   ]
  },
  {
   "cell_type": "code",
   "execution_count": null,
   "metadata": {},
   "outputs": [],
   "source": [
    "plt.plot(reversed, label='Predição')\n",
    "plt.plot(test_val.values, label='Valores Reais')\n",
    "plt.legend()\n",
    "plt.show()"
   ]
  },
  {
   "cell_type": "code",
   "execution_count": null,
   "metadata": {},
   "outputs": [],
   "source": [
    "# train_tf = transform_train(train, format=\"normal\")\n",
    "train_norm, mean, std = rolling_window_series(train, horizon)\n",
    "test_norm = znorm_mean_std(test, mean, std)\n",
    "concat_norm = pd.concat([train_norm, test_norm])\n",
    "dataset_norm = PandasDataset(concat_norm, target=\"value\")\n",
    "# test_ds = PandasDataset(test_norm, target=\"value\")\n",
    "training_data, test_gen = split(dataset_norm, offset=-12)\n",
    "test_data = test_gen.generate_instances(prediction_length=12, windows=1)\n",
    "model = DeepAREstimator(\n",
    "    prediction_length=12, freq=\"M\", trainer_kwargs={\"max_epochs\": 50}\n",
    ").train(training_data)\n",
    "forecasts_it = list(model.predict(test_data.input, num_samples=100))\n",
    "# predictor.predict(test_data.input, num_samples=num_samples)\n",
    "# forecast_it, ts_it = make_evaluation_predictions(\n",
    "#     dataset=test_ds,\n",
    "#     predictor=model,\n",
    "#     num_samples=100,\n",
    "# )\n"
   ]
  },
  {
   "cell_type": "code",
   "execution_count": null,
   "metadata": {},
   "outputs": [
    {
     "data": {
      "text/plain": [
       "[<matplotlib.lines.Line2D at 0x7e2f4f857d10>]"
      ]
     },
     "execution_count": 48,
     "metadata": {},
     "output_type": "execute_result"
    },
    {
     "data": {
      "image/png": "[encoded data removed]",
      "text/plain": [
       "<Figure size 640x480 with 1 Axes>"
      ]
     },
     "metadata": {},
     "output_type": "display_data"
    }
   ],
   "source": [
    "all_forecasts = []\n",
    "for forecast in forecasts_it:\n",
    "    all_forecasts.append(forecast.mean)\n",
    "\n",
    "preds_notrain = znorm_reverse(all_forecasts[0], mean, std)\n",
    "plt.plot(preds_notrain, label='sem busca')\n",
    "plt.plot(reversed, label='com busca')\n",
    "plt.plot(test.values, label='Valores Reais')\n",
    "plt.legend()\n",
    "plt.show()"
   ]
  }
 ],
 "metadata": {
  "kernelspec": {
   "display_name": "lucas",
   "language": "python",
   "name": "python3"
  },
  "language_info": {
   "codemirror_mode": {
    "name": "ipython",
    "version": 3
   },
   "file_extension": ".py",
   "mimetype": "text/x-python",
   "name": "python",
   "nbconvert_exporter": "python",
   "pygments_lexer": "ipython3",
   "version": "3.11.7"
  }
 },
 "nbformat": 4,
 "nbformat_minor": 2
}
