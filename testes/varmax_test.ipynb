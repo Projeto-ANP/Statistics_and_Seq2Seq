{
 "cells": [
  {
   "cell_type": "code",
   "execution_count": 23,
   "metadata": {},
   "outputs": [],
   "source": [
    "from Statistics_and_Seq2Seq.all_functions import *\n",
    "from aeon.visualisation import plot_series\n",
    "from statsmodels.tsa.statespace.varmax import VARMAX\n",
    "import os\n",
    "def read_series(file_path):\n",
    "    df = pd.read_csv(file_path, header=0, parse_dates=['timestamp'], sep=\";\", date_parser=custom_parser)\n",
    "    df['timestamp'] = pd.to_datetime(df['timestamp'], infer_datetime_format=True)\n",
    "    df = df.set_index('timestamp', inplace=False)\n",
    "    df.index = df.index.to_period('M')\n",
    "    series = df['m3']\n",
    "    return series\n",
    "\n",
    "def znorm_mean_std(x, mean, std):\n",
    "  x_znorm = (x - mean) / std\n",
    "  return x_znorm\n",
    "\n",
    "def varmax_recursive(data, horizon, order=(1,1)):\n",
    "  data_predict = data.copy()\n",
    "  for _ in range(horizon):    \n",
    "\n",
    "    model = VARMAX(data_predict, freq = 'M', order=order)\n",
    "    fitted_model = model.fit(disp=False)\n",
    "    next_prediction = fitted_model.forecast(steps=1)\n",
    "    data_predict = pd.concat([data_predict, next_prediction])\n",
    "  return data_predict, data_predict.tail(12)\n",
    "\n",
    "   "
   ]
  },
  {
   "cell_type": "code",
   "execution_count": 24,
   "metadata": {},
   "outputs": [],
   "source": [
    "data_dict = {}\n",
    "test_dict = {}\n",
    "train_real = {}\n",
    "dirs = [\n",
    "    # './datasets/venda/mensal/uf/gasolinac/',\n",
    "    # './datasets/venda/mensal/uf/etanolhidratado/',\n",
    "    # './datasets/venda/mensal/uf/gasolinadeaviacao/',\n",
    "    # './datasets/venda/mensal/uf/glp/',\n",
    "    './datasets/venda/mensal/uf/oleocombustivel/',\n",
    "    # './datasets/venda/mensal/uf/oleodiesel/',\n",
    "    # './datasets/venda/mensal/uf/querosenedeaviacao/',\n",
    "    # './datasets/venda/mensal/uf/queroseneiluminante/',\n",
    "]\n",
    "path_derivado = f'./datasets/venda/mensal/uf/oleocombustivel'\n",
    "\n",
    "cont = 0\n",
    "for directory in dirs:\n",
    "    for file in os.listdir(directory): \n",
    "        if file.endswith('.csv'):\n",
    "            full_path = os.path.join(directory, file)\n",
    "            derivado = directory.split('/')[-2]\n",
    "            uf = file.split(\"_\")[1].upper()\n",
    "            series = read_series(full_path)\n",
    "            train, test = train_test_stats(series, 12)\n",
    "            train_tf = transform_train(train, horizon=12, format=\"normal\")\n",
    "            train_norm, mean, std = rolling_window_series(train_tf, 12)\n",
    "            test_norm = znorm_mean_std(test, mean, std)\n",
    "            data_dict[uf] = train_norm\n",
    "            test_dict[uf] = test_norm\n",
    "            train_real[uf] = train\n",
    "            cont+=1\n",
    "            # if cont == 6:\n",
    "            #     break\n",
    "train_transformed = pd.DataFrame(data_dict)\n",
    "tests = pd.DataFrame(test_dict)\n",
    "train_normal = pd.DataFrame(train_real)\n",
    "# print(combined_data)"
   ]
  },
  {
   "cell_type": "code",
   "execution_count": 25,
   "metadata": {},
   "outputs": [],
   "source": [
    "def forecast_varmax(train, initial_order=(13, 13)):\n",
    "    flag = True\n",
    "    order = initial_order\n",
    "    isP = True\n",
    "    while flag:\n",
    "        try:\n",
    "            model = VARMAX(train, freq='M', order=order)\n",
    "            fitted_model = model.fit(disp=False)\n",
    "            preds = fitted_model.forecast(steps=12)\n",
    "            return preds, order\n",
    "        except Exception as e:\n",
    "            error_message = str(e)\n",
    "            print_log(f\"Error: {error_message}\")\n",
    "            print_log(f\"Error: Not valid {str(order)} decrementing...\")\n",
    "            p, q = order\n",
    "            if isP and p > 0:\n",
    "                p -= 1\n",
    "            elif not isP and q > 0:\n",
    "                q -= 1\n",
    "            else:\n",
    "                flag = False\n",
    "            isP = not isP\n",
    "            order = (p, q)\n",
    "        "
   ]
  },
  {
   "cell_type": "code",
   "execution_count": 26,
   "metadata": {},
   "outputs": [],
   "source": [
    "horizon = 12\n",
    "def euclidean_dist(serie1, serie2):\n",
    "    dist = np.linalg.norm(serie1 - serie2)\n",
    "    return dist\n",
    "\n",
    "def build_state_matrix(states):\n",
    "    n = len(states)\n",
    "    matrix = pd.DataFrame(np.zeros((n, n)), index=states, columns=states)\n",
    "    return matrix\n",
    "\n",
    "def make_matrix(path_derivado):\n",
    "    csv_files = [file for file in os.listdir(path_derivado) if file.endswith('.csv')]\n",
    "    states = []\n",
    "    for csv_file in csv_files:  \n",
    "        start = csv_file.find('mensal_') + len('mensal_')\n",
    "        end = csv_file.find('_', start)\n",
    "        state = csv_file[start:end].upper()\n",
    "        \n",
    "        states.append(state)\n",
    "            \n",
    "    return build_state_matrix(states)\n",
    "\n",
    "def euclidean_series(matrix, path_derivado, transform):\n",
    "    derivado = path_derivado.split(\"/\")[-1]\n",
    "    for row in matrix.itertuples():\n",
    "        row_header = row.Index\n",
    "        for col_header in matrix.columns:\n",
    "            if row_header != col_header:\n",
    "                series_row = read_series(f\"{path_derivado}/mensal_{row_header.lower()}_{derivado}.csv\")\n",
    "                series_col = read_series(f\"{path_derivado}/mensal_{col_header.lower()}_{derivado}.csv\")\n",
    "                train_row, _ = train_test_stats(series_row, horizon)\n",
    "                train_col, _ = train_test_stats(series_col, horizon)\n",
    "                if transform != \"serie-desnormalizada\":\n",
    "                    train_row = transform_train(train_row, format=transform)\n",
    "                    train_col = transform_train(train_col, format=transform)\n",
    "                    \n",
    "                matrix.at[row_header, col_header] = euclidean_dist(train_row, train_col)\n",
    "\n",
    "    return matrix\n",
    "def similar_states(matrix, x, estado):\n",
    "    filtered_values = matrix[estado].copy()\n",
    "    filtered_values = filtered_values.drop(estado)\n",
    "    \n",
    "    # Obtém os X menores valores\n",
    "    smallest_values = filtered_values.nsmallest(x)\n",
    "    \n",
    "    return smallest_values\n"
   ]
  },
  {
   "cell_type": "code",
   "execution_count": 27,
   "metadata": {},
   "outputs": [],
   "source": [
    "matrix = make_matrix(path_derivado)\n",
    "matrix_euclid = euclidean_series(matrix, path_derivado, \"normal\")\n",
    "\n",
    "euclidean_states = similar_states(matrix_euclid, 3, \"MT\").keys().tolist()\n",
    "euclidean_states.append(\"MT\")\n"
   ]
  },
  {
   "cell_type": "code",
   "execution_count": 28,
   "metadata": {},
   "outputs": [
    {
     "data": {
      "text/plain": [
       "['PB', 'GO', 'RO', 'MT']"
      ]
     },
     "execution_count": 28,
     "metadata": {},
     "output_type": "execute_result"
    }
   ],
   "source": [
    "euclidean_states"
   ]
  },
  {
   "cell_type": "code",
   "execution_count": 29,
   "metadata": {},
   "outputs": [
    {
     "data": {
      "text/plain": [
       "(               PB        GO        RO        MT\n",
       " 2023-03 -0.435569 -0.695143 -0.606196  0.123700\n",
       " 2023-04 -0.268247 -0.817543 -0.450587  0.469603\n",
       " 2023-05 -0.116746  0.026536 -0.041880  0.161828\n",
       " 2023-06  0.136531  0.034997  0.375301  1.030811\n",
       " 2023-07  0.015384 -0.063176  0.025037 -0.056960\n",
       " 2023-08  0.128342  0.185395  0.526087 -0.182147\n",
       " 2023-09  0.405629 -0.056973 -0.120705  0.316213\n",
       " 2023-10  0.010224  0.205468  1.015334 -0.922956\n",
       " 2023-11  0.226950 -0.257284  0.482792 -0.303511\n",
       " 2023-12  0.152663 -0.169185  0.199791 -1.042972\n",
       " 2024-01  0.053668 -0.503280  0.021098 -0.235994\n",
       " 2024-02  0.285987  0.080206  0.028214 -0.281592,\n",
       " (13, 13))"
      ]
     },
     "execution_count": 29,
     "metadata": {},
     "output_type": "execute_result"
    }
   ],
   "source": [
    "preds2 = forecast_varmax(train_transformed[euclidean_states])\n",
    "preds2\n",
    "# model = VARMAX(train, freq='M', order=(14,14))\n",
    "# fitted_model = model.fit(disp=False)\n",
    "# preds = fitted_model.forecast(steps=12)"
   ]
  },
  {
   "cell_type": "code",
   "execution_count": 30,
   "metadata": {},
   "outputs": [
    {
     "ename": "TypeError",
     "evalue": "tuple indices must be integers or slices, not str",
     "output_type": "error",
     "traceback": [
      "\u001b[0;31m---------------------------------------------------------------------------\u001b[0m",
      "\u001b[0;31mTypeError\u001b[0m                                 Traceback (most recent call last)",
      "Cell \u001b[0;32mIn[30], line 1\u001b[0m\n\u001b[0;32m----> 1\u001b[0m plot_series(preds2[\u001b[38;5;124m'\u001b[39m\u001b[38;5;124mAP\u001b[39m\u001b[38;5;124m'\u001b[39m])\n",
      "\u001b[0;31mTypeError\u001b[0m: tuple indices must be integers or slices, not str"
     ]
    }
   ],
   "source": [
    "plot_series(preds2['AP'])"
   ]
  },
  {
   "cell_type": "code",
   "execution_count": null,
   "metadata": {},
   "outputs": [
    {
     "data": {
      "text/plain": [
       "(<Figure size 1600x400 with 1 Axes>, <Axes: ylabel='ES'>)"
      ]
     },
     "execution_count": 5,
     "metadata": {},
     "output_type": "execute_result"
    },
    {
     "data": {
      "image/png": "[encoded data removed]",
      "text/plain": [
       "<Figure size 1600x400 with 1 Axes>"
      ]
     },
     "metadata": {},
     "output_type": "display_data"
    }
   ],
   "source": [
    "plot_series(tests['ES'], preds2['ES'], labels=[\"test\", \"preds\"])"
   ]
  },
  {
   "cell_type": "code",
   "execution_count": null,
   "metadata": {},
   "outputs": [],
   "source": [
    "horizon = 12"
   ]
  },
  {
   "cell_type": "code",
   "execution_count": null,
   "metadata": {},
   "outputs": [
    {
     "name": "stdout",
     "output_type": "stream",
     "text": [
      "Arquivo processado: transform_GO.csv\n",
      "Arquivo processado: transform_PA.csv\n",
      "Arquivo processado: transform_SP.csv\n",
      "Arquivo processado: transform_PI.csv\n",
      "Arquivo processado: transform_PR.csv\n",
      "Arquivo processado: transform_MT.csv\n",
      "Arquivo processado: transform_ES.csv\n",
      "Arquivo processado: transform_RS.csv\n",
      "Arquivo processado: transform_RR.csv\n",
      "Arquivo processado: transform_SC.csv\n",
      "Arquivo processado: transform_PE.csv\n",
      "Arquivo processado: transform_MA.csv\n",
      "Arquivo processado: transform_SE.csv\n",
      "Arquivo processado: transform_PB.csv\n",
      "Arquivo processado: transform_DF.csv\n",
      "Arquivo processado: transform_MS.csv\n",
      "Arquivo processado: transform_MG.csv\n",
      "Arquivo processado: transform_TO.csv\n",
      "Arquivo processado: transform_RJ.csv\n",
      "Arquivo processado: transform_AM.csv\n",
      "Arquivo processado: transform_AP.csv\n",
      "Arquivo processado: transform_CE.csv\n",
      "Arquivo processado: transform_AL.csv\n",
      "Arquivo processado: transform_RN.csv\n",
      "Arquivo processado: transform_BA.csv\n",
      "Arquivo processado: transform_RO.csv\n",
      "Arquivo processado: transform_AC.csv\n"
     ]
    }
   ],
   "source": [
    "def process_csv_files(directory):\n",
    "    # Verifica se o diretório existe\n",
    "    if not os.path.isdir(directory):\n",
    "        print(f\"O diretório {directory} não existe.\")\n",
    "        return\n",
    "\n",
    "    # Percorre todos os arquivos no diretório\n",
    "    for filename in os.listdir(directory):\n",
    "        # Verifica se o arquivo é um .csv\n",
    "        if filename.endswith('.csv'):\n",
    "            file_path = os.path.join(directory, filename)\n",
    "            \n",
    "            # Lê o arquivo CSV\n",
    "            try:\n",
    "                with open(file_path, 'r', encoding='utf-8') as file:\n",
    "                    lines = file.readlines()\n",
    "\n",
    "                # Verifica se há pelo menos uma linha no arquivo\n",
    "                if lines:\n",
    "                    # Remove a ocorrência de \"SAVED MODEL;\" da primeira linha\n",
    "                    lines[0] = lines[0].replace(\"SAVED MODEL;\", \"\")\n",
    "\n",
    "                    # Escreve as linhas de volta no arquivo\n",
    "                    with open(file_path, 'w', encoding='utf-8') as file:\n",
    "                        file.writelines(lines)\n",
    "\n",
    "                print(f\"Arquivo processado: {filename}\")\n",
    "\n",
    "            except Exception as e:\n",
    "                print(f\"Erro ao processar o arquivo {filename}: {e}\")\n",
    "\n",
    "# Exemplo de uso\n",
    "diretorio = './Statistics_and_Seq2Seq/results/sarima/rolling/queroseneiluminante'\n",
    "process_csv_files(diretorio)"
   ]
  }
 ],
 "metadata": {
  "kernelspec": {
   "display_name": "base",
   "language": "python",
   "name": "python3"
  },
  "language_info": {
   "codemirror_mode": {
    "name": "ipython",
    "version": 3
   },
   "file_extension": ".py",
   "mimetype": "text/x-python",
   "name": "python",
   "nbconvert_exporter": "python",
   "pygments_lexer": "ipython3",
   "version": "3.1.-1"
  }
 },
 "nbformat": 4,
 "nbformat_minor": 2
}
