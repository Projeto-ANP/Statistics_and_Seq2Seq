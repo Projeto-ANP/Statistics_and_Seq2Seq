{
 "cells": [
  {
   "cell_type": "code",
   "execution_count": 2,
   "metadata": {},
   "outputs": [],
   "source": [
    "#!pip install -U aeon\n",
    "#!pip install aeon[all_extras]\n",
    "import warnings\n",
    "import pandas as pd\n",
    "from matplotlib import pyplot as plt\n",
    "from aeon.visualisation import plot_series\n",
    "from all_functions import *\n",
    "from sklearn.ensemble import RandomForestRegressor\n",
    "import xgboost as xgb \n",
    "from sklearn.model_selection import GridSearchCV\n",
    "from aeon.transformations.detrend import STLTransformer\n",
    "import ast\n",
    "from sklearn.metrics import mean_absolute_percentage_error as mape\n",
    "from sklearn.metrics import mean_squared_error, make_scorer\n",
    "warnings.filterwarnings(\"ignore\")\n",
    "%matplotlib inline"
   ]
  },
  {
   "cell_type": "code",
   "execution_count": 3,
   "metadata": {},
   "outputs": [],
   "source": [
    "window = 12\n",
    "horizon = 12\n",
    "derivad = \"etanolhidratado\"\n",
    "estado = \"SP\"\n",
    "series = read_series(f'../datasets/venda/mensal/uf/{derivad}/mensal_{estado.lower()}_{derivad}.csv')\n",
    "train, test = train_test_stats(series, horizon)\n",
    "\n",
    "# transformer = STLTransformer(sp=12)  \n",
    "# result = transformer.fit(test)\n",
    "# test_resid = result.resid_\n"
   ]
  },
  {
   "cell_type": "code",
   "execution_count": 4,
   "metadata": {},
   "outputs": [],
   "source": [
    "train_normal = transform_train(train, format=\"normal\", horizon=horizon)\n",
    "model = ARIMA(order=(4,1,4), \n",
    "              seasonal_order=(6,0,6,12), \n",
    "            suppress_warnings=True\n",
    "            )\n",
    "model.fit(train_normal)\n",
    "\n",
    "predictions = model.predict(fh=[i for i in range(1, horizon+1)] )\n",
    "preds_real = reverse_transform_norm_preds(predictions, train, format=\"normal\")\n"
   ]
  }
 ],
 "metadata": {
  "kernelspec": {
   "display_name": "base",
   "language": "python",
   "name": "python3"
  },
  "language_info": {
   "codemirror_mode": {
    "name": "ipython",
    "version": 3
   },
   "file_extension": ".py",
   "mimetype": "text/x-python",
   "name": "python",
   "nbconvert_exporter": "python",
   "pygments_lexer": "ipython3",
   "version": "3.11.7"
  }
 },
 "nbformat": 4,
 "nbformat_minor": 2
}
