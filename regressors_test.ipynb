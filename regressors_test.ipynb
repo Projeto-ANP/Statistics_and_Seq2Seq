{
 "cells": [
  {
   "cell_type": "code",
   "execution_count": 1,
   "metadata": {},
   "outputs": [
    {
     "name": "stderr",
     "output_type": "stream",
     "text": [
      "/home/anp/anaconda3/lib/python3.11/site-packages/aeon/base/__init__.py:24: FutureWarning: The aeon package will soon be releasing v1.0.0 with the removal of legacy modules and interfaces such as BaseTransformer and BaseForecaster. This will contain breaking changes. See aeon-toolkit.org for more information. Set aeon.AEON_DEPRECATION_WARNING or the AEON_DEPRECATION_WARNING environmental variable to 'False' to disable this warning.\n",
      "  warnings.warn(\n"
     ]
    }
   ],
   "source": [
    "#!pip install -U aeon\n",
    "#!pip install aeon[all_extras]\n",
    "import warnings\n",
    "import pandas as pd\n",
    "from matplotlib import pyplot as plt\n",
    "from aeon.visualisation import plot_series\n",
    "from all_functions import *\n",
    "from sklearn.ensemble import RandomForestRegressor\n",
    "import xgboost as xgb \n",
    "from sklearn.model_selection import GridSearchCV\n",
    "from aeon.transformations.detrend import STLTransformer\n",
    "import ast\n",
    "from sklearn.metrics import mean_absolute_percentage_error as mape\n",
    "from sklearn.metrics import mean_squared_error, make_scorer\n",
    "import os\n",
    "from sklearn.linear_model import Ridge, RidgeCV\n",
    "from datetime import datetime\n",
    "from distutils.util import strtobool\n",
    "\n",
    "warnings.filterwarnings(\"ignore\")\n",
    "%matplotlib inline\n",
    "def convert_to_list(series_str):\n",
    "    return eval(series_str)\n"
   ]
  },
  {
   "cell_type": "code",
   "execution_count": 3,
   "metadata": {},
   "outputs": [
    {
     "data": {
      "text/plain": [
       "148    1324.0\n",
       "149    1324.0\n",
       "150    1324.0\n",
       "151    1324.0\n",
       "152    1324.0\n",
       "153    1324.0\n",
       "154    1324.0\n",
       "155    1324.0\n",
       "dtype: float64"
      ]
     },
     "execution_count": 3,
     "metadata": {},
     "output_type": "execute_result"
    }
   ],
   "source": [
    "df, frequency, forecast_horizon, contain_missing_values, contain_equal_length = convert_tsf_to_dataframe(\n",
    "f'/home/anp/Documents/m4/timeseries/electricity_weekly_dataset.tsf',\n",
    "replace_missing_vals_with=\"NaN\",\n",
    "value_column_name=\"series_value\",\n",
    ")\n",
    "\n",
    "transform = \"normal\"\n",
    "representation = \"DWT\"\n",
    "wavelet = \"bior2.2\"\n",
    "level = 2\n",
    "window = 8\n",
    "horizon = 8\n",
    "series = df.iloc[2]['series_value'].tolist()\n",
    "\n",
    "train, test = train_test_stats(pd.Series(series), horizon)\n",
    "\n",
    "train_tf = transform_regressors(train, transform)\n",
    "\n",
    "data = rolling_window_image(pd.concat([train_tf, pd.Series([0] * horizon, index=test.index)]), window, representation, wavelet, level) \n",
    "data = data.dropna()\n",
    "X_train, X_test, y_train, _ = train_test_split(data, horizon)\n",
    "rg = RidgeCV(alphas=np.logspace(-3, 3, 10))\n",
    "rg.fit(X_train, y_train)\n",
    "predictions = recursive_step(X_test, train, rg, horizon, window, transform, representation, wavelet, level)\n",
    "preds_real = pd.Series(predictions, index=test.index)\n",
    "preds_real"
   ]
  },
  {
   "cell_type": "code",
   "execution_count": 5,
   "metadata": {},
   "outputs": [
    {
     "ename": "FileNotFoundError",
     "evalue": "[Errno 2] No such file or directory: '../m4/experiments/quarterly/quarterly.csv'",
     "output_type": "error",
     "traceback": [
      "\u001b[0;31m---------------------------------------------------------------------------\u001b[0m",
      "\u001b[0;31mFileNotFoundError\u001b[0m                         Traceback (most recent call last)",
      "Cell \u001b[0;32mIn[5], line 1\u001b[0m\n\u001b[0;32m----> 1\u001b[0m df_ridge \u001b[38;5;241m=\u001b[39m pd\u001b[38;5;241m.\u001b[39mread_csv(\u001b[38;5;124m'\u001b[39m\u001b[38;5;124m../m4/experiments/quarterly/quarterly.csv\u001b[39m\u001b[38;5;124m'\u001b[39m, sep\u001b[38;5;241m=\u001b[39m\u001b[38;5;124m\"\u001b[39m\u001b[38;5;124m;\u001b[39m\u001b[38;5;124m\"\u001b[39m)\n\u001b[1;32m      2\u001b[0m df_ridge \u001b[38;5;241m=\u001b[39m df_ridge\u001b[38;5;241m.\u001b[39miloc[:\u001b[38;5;241m240000\u001b[39m]\n\u001b[1;32m      3\u001b[0m df_rf \u001b[38;5;241m=\u001b[39m pd\u001b[38;5;241m.\u001b[39mread_csv(\u001b[38;5;124m'\u001b[39m\u001b[38;5;124m../m4/experiments2/quarterly/quarterly.csv\u001b[39m\u001b[38;5;124m'\u001b[39m, sep\u001b[38;5;241m=\u001b[39m\u001b[38;5;124m\"\u001b[39m\u001b[38;5;124m;\u001b[39m\u001b[38;5;124m\"\u001b[39m)\n",
      "File \u001b[0;32m~/anaconda3/lib/python3.11/site-packages/pandas/io/parsers/readers.py:912\u001b[0m, in \u001b[0;36mread_csv\u001b[0;34m(filepath_or_buffer, sep, delimiter, header, names, index_col, usecols, dtype, engine, converters, true_values, false_values, skipinitialspace, skiprows, skipfooter, nrows, na_values, keep_default_na, na_filter, verbose, skip_blank_lines, parse_dates, infer_datetime_format, keep_date_col, date_parser, date_format, dayfirst, cache_dates, iterator, chunksize, compression, thousands, decimal, lineterminator, quotechar, quoting, doublequote, escapechar, comment, encoding, encoding_errors, dialect, on_bad_lines, delim_whitespace, low_memory, memory_map, float_precision, storage_options, dtype_backend)\u001b[0m\n\u001b[1;32m    899\u001b[0m kwds_defaults \u001b[38;5;241m=\u001b[39m _refine_defaults_read(\n\u001b[1;32m    900\u001b[0m     dialect,\n\u001b[1;32m    901\u001b[0m     delimiter,\n\u001b[0;32m   (...)\u001b[0m\n\u001b[1;32m    908\u001b[0m     dtype_backend\u001b[38;5;241m=\u001b[39mdtype_backend,\n\u001b[1;32m    909\u001b[0m )\n\u001b[1;32m    910\u001b[0m kwds\u001b[38;5;241m.\u001b[39mupdate(kwds_defaults)\n\u001b[0;32m--> 912\u001b[0m \u001b[38;5;28;01mreturn\u001b[39;00m _read(filepath_or_buffer, kwds)\n",
      "File \u001b[0;32m~/anaconda3/lib/python3.11/site-packages/pandas/io/parsers/readers.py:577\u001b[0m, in \u001b[0;36m_read\u001b[0;34m(filepath_or_buffer, kwds)\u001b[0m\n\u001b[1;32m    574\u001b[0m _validate_names(kwds\u001b[38;5;241m.\u001b[39mget(\u001b[38;5;124m\"\u001b[39m\u001b[38;5;124mnames\u001b[39m\u001b[38;5;124m\"\u001b[39m, \u001b[38;5;28;01mNone\u001b[39;00m))\n\u001b[1;32m    576\u001b[0m \u001b[38;5;66;03m# Create the parser.\u001b[39;00m\n\u001b[0;32m--> 577\u001b[0m parser \u001b[38;5;241m=\u001b[39m TextFileReader(filepath_or_buffer, \u001b[38;5;241m*\u001b[39m\u001b[38;5;241m*\u001b[39mkwds)\n\u001b[1;32m    579\u001b[0m \u001b[38;5;28;01mif\u001b[39;00m chunksize \u001b[38;5;129;01mor\u001b[39;00m iterator:\n\u001b[1;32m    580\u001b[0m     \u001b[38;5;28;01mreturn\u001b[39;00m parser\n",
      "File \u001b[0;32m~/anaconda3/lib/python3.11/site-packages/pandas/io/parsers/readers.py:1407\u001b[0m, in \u001b[0;36mTextFileReader.__init__\u001b[0;34m(self, f, engine, **kwds)\u001b[0m\n\u001b[1;32m   1404\u001b[0m     \u001b[38;5;28mself\u001b[39m\u001b[38;5;241m.\u001b[39moptions[\u001b[38;5;124m\"\u001b[39m\u001b[38;5;124mhas_index_names\u001b[39m\u001b[38;5;124m\"\u001b[39m] \u001b[38;5;241m=\u001b[39m kwds[\u001b[38;5;124m\"\u001b[39m\u001b[38;5;124mhas_index_names\u001b[39m\u001b[38;5;124m\"\u001b[39m]\n\u001b[1;32m   1406\u001b[0m \u001b[38;5;28mself\u001b[39m\u001b[38;5;241m.\u001b[39mhandles: IOHandles \u001b[38;5;241m|\u001b[39m \u001b[38;5;28;01mNone\u001b[39;00m \u001b[38;5;241m=\u001b[39m \u001b[38;5;28;01mNone\u001b[39;00m\n\u001b[0;32m-> 1407\u001b[0m \u001b[38;5;28mself\u001b[39m\u001b[38;5;241m.\u001b[39m_engine \u001b[38;5;241m=\u001b[39m \u001b[38;5;28mself\u001b[39m\u001b[38;5;241m.\u001b[39m_make_engine(f, \u001b[38;5;28mself\u001b[39m\u001b[38;5;241m.\u001b[39mengine)\n",
      "File \u001b[0;32m~/anaconda3/lib/python3.11/site-packages/pandas/io/parsers/readers.py:1661\u001b[0m, in \u001b[0;36mTextFileReader._make_engine\u001b[0;34m(self, f, engine)\u001b[0m\n\u001b[1;32m   1659\u001b[0m     \u001b[38;5;28;01mif\u001b[39;00m \u001b[38;5;124m\"\u001b[39m\u001b[38;5;124mb\u001b[39m\u001b[38;5;124m\"\u001b[39m \u001b[38;5;129;01mnot\u001b[39;00m \u001b[38;5;129;01min\u001b[39;00m mode:\n\u001b[1;32m   1660\u001b[0m         mode \u001b[38;5;241m+\u001b[39m\u001b[38;5;241m=\u001b[39m \u001b[38;5;124m\"\u001b[39m\u001b[38;5;124mb\u001b[39m\u001b[38;5;124m\"\u001b[39m\n\u001b[0;32m-> 1661\u001b[0m \u001b[38;5;28mself\u001b[39m\u001b[38;5;241m.\u001b[39mhandles \u001b[38;5;241m=\u001b[39m get_handle(\n\u001b[1;32m   1662\u001b[0m     f,\n\u001b[1;32m   1663\u001b[0m     mode,\n\u001b[1;32m   1664\u001b[0m     encoding\u001b[38;5;241m=\u001b[39m\u001b[38;5;28mself\u001b[39m\u001b[38;5;241m.\u001b[39moptions\u001b[38;5;241m.\u001b[39mget(\u001b[38;5;124m\"\u001b[39m\u001b[38;5;124mencoding\u001b[39m\u001b[38;5;124m\"\u001b[39m, \u001b[38;5;28;01mNone\u001b[39;00m),\n\u001b[1;32m   1665\u001b[0m     compression\u001b[38;5;241m=\u001b[39m\u001b[38;5;28mself\u001b[39m\u001b[38;5;241m.\u001b[39moptions\u001b[38;5;241m.\u001b[39mget(\u001b[38;5;124m\"\u001b[39m\u001b[38;5;124mcompression\u001b[39m\u001b[38;5;124m\"\u001b[39m, \u001b[38;5;28;01mNone\u001b[39;00m),\n\u001b[1;32m   1666\u001b[0m     memory_map\u001b[38;5;241m=\u001b[39m\u001b[38;5;28mself\u001b[39m\u001b[38;5;241m.\u001b[39moptions\u001b[38;5;241m.\u001b[39mget(\u001b[38;5;124m\"\u001b[39m\u001b[38;5;124mmemory_map\u001b[39m\u001b[38;5;124m\"\u001b[39m, \u001b[38;5;28;01mFalse\u001b[39;00m),\n\u001b[1;32m   1667\u001b[0m     is_text\u001b[38;5;241m=\u001b[39mis_text,\n\u001b[1;32m   1668\u001b[0m     errors\u001b[38;5;241m=\u001b[39m\u001b[38;5;28mself\u001b[39m\u001b[38;5;241m.\u001b[39moptions\u001b[38;5;241m.\u001b[39mget(\u001b[38;5;124m\"\u001b[39m\u001b[38;5;124mencoding_errors\u001b[39m\u001b[38;5;124m\"\u001b[39m, \u001b[38;5;124m\"\u001b[39m\u001b[38;5;124mstrict\u001b[39m\u001b[38;5;124m\"\u001b[39m),\n\u001b[1;32m   1669\u001b[0m     storage_options\u001b[38;5;241m=\u001b[39m\u001b[38;5;28mself\u001b[39m\u001b[38;5;241m.\u001b[39moptions\u001b[38;5;241m.\u001b[39mget(\u001b[38;5;124m\"\u001b[39m\u001b[38;5;124mstorage_options\u001b[39m\u001b[38;5;124m\"\u001b[39m, \u001b[38;5;28;01mNone\u001b[39;00m),\n\u001b[1;32m   1670\u001b[0m )\n\u001b[1;32m   1671\u001b[0m \u001b[38;5;28;01massert\u001b[39;00m \u001b[38;5;28mself\u001b[39m\u001b[38;5;241m.\u001b[39mhandles \u001b[38;5;129;01mis\u001b[39;00m \u001b[38;5;129;01mnot\u001b[39;00m \u001b[38;5;28;01mNone\u001b[39;00m\n\u001b[1;32m   1672\u001b[0m f \u001b[38;5;241m=\u001b[39m \u001b[38;5;28mself\u001b[39m\u001b[38;5;241m.\u001b[39mhandles\u001b[38;5;241m.\u001b[39mhandle\n",
      "File \u001b[0;32m~/anaconda3/lib/python3.11/site-packages/pandas/io/common.py:859\u001b[0m, in \u001b[0;36mget_handle\u001b[0;34m(path_or_buf, mode, encoding, compression, memory_map, is_text, errors, storage_options)\u001b[0m\n\u001b[1;32m    854\u001b[0m \u001b[38;5;28;01melif\u001b[39;00m \u001b[38;5;28misinstance\u001b[39m(handle, \u001b[38;5;28mstr\u001b[39m):\n\u001b[1;32m    855\u001b[0m     \u001b[38;5;66;03m# Check whether the filename is to be opened in binary mode.\u001b[39;00m\n\u001b[1;32m    856\u001b[0m     \u001b[38;5;66;03m# Binary mode does not support 'encoding' and 'newline'.\u001b[39;00m\n\u001b[1;32m    857\u001b[0m     \u001b[38;5;28;01mif\u001b[39;00m ioargs\u001b[38;5;241m.\u001b[39mencoding \u001b[38;5;129;01mand\u001b[39;00m \u001b[38;5;124m\"\u001b[39m\u001b[38;5;124mb\u001b[39m\u001b[38;5;124m\"\u001b[39m \u001b[38;5;129;01mnot\u001b[39;00m \u001b[38;5;129;01min\u001b[39;00m ioargs\u001b[38;5;241m.\u001b[39mmode:\n\u001b[1;32m    858\u001b[0m         \u001b[38;5;66;03m# Encoding\u001b[39;00m\n\u001b[0;32m--> 859\u001b[0m         handle \u001b[38;5;241m=\u001b[39m \u001b[38;5;28mopen\u001b[39m(\n\u001b[1;32m    860\u001b[0m             handle,\n\u001b[1;32m    861\u001b[0m             ioargs\u001b[38;5;241m.\u001b[39mmode,\n\u001b[1;32m    862\u001b[0m             encoding\u001b[38;5;241m=\u001b[39mioargs\u001b[38;5;241m.\u001b[39mencoding,\n\u001b[1;32m    863\u001b[0m             errors\u001b[38;5;241m=\u001b[39merrors,\n\u001b[1;32m    864\u001b[0m             newline\u001b[38;5;241m=\u001b[39m\u001b[38;5;124m\"\u001b[39m\u001b[38;5;124m\"\u001b[39m,\n\u001b[1;32m    865\u001b[0m         )\n\u001b[1;32m    866\u001b[0m     \u001b[38;5;28;01melse\u001b[39;00m:\n\u001b[1;32m    867\u001b[0m         \u001b[38;5;66;03m# Binary mode\u001b[39;00m\n\u001b[1;32m    868\u001b[0m         handle \u001b[38;5;241m=\u001b[39m \u001b[38;5;28mopen\u001b[39m(handle, ioargs\u001b[38;5;241m.\u001b[39mmode)\n",
      "\u001b[0;31mFileNotFoundError\u001b[0m: [Errno 2] No such file or directory: '../m4/experiments/quarterly/quarterly.csv'"
     ]
    }
   ],
   "source": [
    "df_ridge = pd.read_csv('../m4/experiments/quarterly/quarterly.csv', sep=\";\")\n",
    "df_ridge = df_ridge.iloc[:240000]\n",
    "df_rf = pd.read_csv('../m4/experiments2/quarterly/quarterly.csv', sep=\";\")\n",
    "df_rf = df_rf.iloc[:5250]\n",
    "print(np.nanmean(df_ridge[\"rmse\"].tolist()))\n",
    "print(np.nanmean(df_rf[\"rmse\"].tolist()))"
   ]
  },
  {
   "cell_type": "code",
   "execution_count": null,
   "metadata": {},
   "outputs": [],
   "source": [
    "# transformations = [\"normal\", \"deseasonal\", \"log\"]\n",
    "# models = [\"CWT_rf\"]\n",
    "# # models = [\n",
    "# #            \"knn_noresid\",\n",
    "# #            \"rf_noresid\",\n",
    "# #            \"svr_noresid\"\n",
    "# #            ]\n",
    "# noResid = False\n",
    "# test_date = '2023-03_2024-02'\n",
    "# results_file = f'./combination/all/{test_date}'\n",
    "# horizon = 12\n",
    "# window = 12\n",
    "# expected_sequence = [\n",
    "#     '2023-03_2024-02',\n",
    "#     '2022-03_2023-02',\n",
    "#     '2021-03_2022-02',\n",
    "#     '2020-03_2021-02',\n",
    "#     '2019-03_2020-02',\n",
    "#     '2018-03_2019-02',\n",
    "#     '2017-03_2018-02',\n",
    "#     '2016-03_2017-02',\n",
    "#     '2015-03_2016-02',\n",
    "#     '2014-03_2015-02',\n",
    "#     '2013-03_2014-02',\n",
    "#     '2012-03_2013-02',\n",
    "#     '2011-03_2012-02',\n",
    "#     '2010-03_2011-02',\n",
    "#     '2009-03_2010-02',\n",
    "#     '2008-03_2009-02',\n",
    "#     '2007-03_2008-02',\n",
    "#     '2006-03_2007-02',\n",
    "#     '2005-03_2006-02',\n",
    "#     '2004-03_2005-02',\n",
    "#     '2003-03_2004-02',\n",
    "#     '2002-03_2003-02',\n",
    "#     '2001-03_2002-02',\n",
    "#     '2000-03_2001-02',\n",
    "#     '1999-03_2000-02',\n",
    "#     '1998-03_1999-02',\n",
    "#     '1997-03_1998-02',\n",
    "#     '1996-03_1997-02',\n",
    "#     '1995-03_1996-02',\n",
    "#     '1994-03_1995-02',\n",
    "#     '1993-03_1994-02'\n",
    "# ]\n",
    "# dirs = [\n",
    "#     '../datasets/venda/mensal/uf/gasolinac/',\n",
    "#     '../datasets/venda/mensal/uf/etanolhidratado/',\n",
    "#     '../datasets/venda/mensal/uf/glp/',\n",
    "#     # '../datasets/venda/mensal/uf/oleodiesel/',\n",
    "#     # '../datasets/venda/mensal/uf/querosenedeaviacao/',\n",
    "# ]\n",
    "# colunas = ['DATA', 'UF', 'PRODUCT', 'MODEL', 'PARAMS', 'WINDOW', 'HORIZON', 'RMSE', 'MAPE', 'POCID', 'PBE', 'MASE',\n",
    "#            'P1', 'P2', 'P3', 'P4', 'P5', 'P6', 'P7', 'P8', 'P9', 'P10', 'P11', 'P12',\n",
    "#            ]\n",
    "# for directory in dirs:\n",
    "#     for file in os.listdir(directory) :\n",
    "#         if file.endswith('.csv'):\n",
    "#             uf = file.split(\"_\")[1].upper()\n",
    "#             derivado = file.split(\"_\")[2].split(\".\")[0]\n",
    "#             full_path = os.path.join(directory, file)\n",
    "#             series = read_series(full_path)\n",
    "#             _, test = train_test_stats(series, horizon)\n",
    "\n",
    "#             predictions = {}\n",
    "#             preds_elastic = []\n",
    "#             preds_barycenter = []\n",
    "            \n",
    "#             for model in models:\n",
    "#                 for transform in transformations:\n",
    "#                     df = pd.read_csv(f'./results/{model}/{derivado}/{transform}/transform_{uf}.csv', sep=\";\")\n",
    "#                     present_sequences = set(df['test_range'])\n",
    "\n",
    "#                     expected_set = set(expected_sequence)\n",
    "\n",
    "#                     missing_sequences = expected_set - present_sequences\n",
    "#                     if len(missing_sequences) > 0:\n",
    "#                         print(f\"Falta em {model}/{derivado}/{transform}/transform_{uf}.csv:\")\n",
    "#                         for seq in sorted(missing_sequences):\n",
    "#                             print(seq)"
   ]
  },
  {
   "cell_type": "code",
   "execution_count": null,
   "metadata": {},
   "outputs": [],
   "source": [
    "def read_tsf(file_path):\n",
    "    with open(file_path, 'r', encoding='ISO-8859-1') as f:\n",
    "        lines = f.readlines()\n",
    "\n",
    "    metadata = []\n",
    "    series = []\n",
    "\n",
    "    for line in lines:\n",
    "        if line.startswith('@') or line.startswith('#'):\n",
    "            metadata.append(line.strip())\n",
    "        else:\n",
    "            series.append(line.strip())\n",
    "\n",
    "    formatted_data = []\n",
    "\n",
    "    # Processar cada linha de série\n",
    "    for entry in series:\n",
    "        dataset_name, start_date, series_values = entry.split(':', 2)\n",
    "        start_date = start_date.strip()\n",
    "        series_list = [float(value) for value in series_values.split(',')]\n",
    "        \n",
    "        # Adicionar aos dados formatados\n",
    "        formatted_data.append({\n",
    "            'dataset': dataset_name,\n",
    "            'start_date': start_date,\n",
    "            'series': series_list\n",
    "        })\n",
    "        \n",
    "    series_data = pd.DataFrame(formatted_data)\n",
    "\n",
    "\n",
    "    return metadata, series_data"
   ]
  },
  {
   "cell_type": "code",
   "execution_count": null,
   "metadata": {},
   "outputs": [],
   "source": [
    "import numpy as np\n",
    "import pandas as pd\n",
    "\n",
    "# Função para calcular os valores de SMAPE\n",
    "def calculate_smape(forecasts, test_set):\n",
    "    smape = 2 * np.abs(forecasts - test_set) / (np.abs(forecasts) + np.abs(test_set))\n",
    "    smape_per_series = np.nanmean(smape, axis=1)  # Média por série\n",
    "    return smape_per_series\n",
    "\n",
    "# Função para calcular os valores de mSMAPE\n",
    "def calculate_msmape(forecasts, test_set):\n",
    "    epsilon = 0.1\n",
    "    comparator = np.full(test_set.shape, 0.5 + epsilon)\n",
    "    sum_values = np.maximum(comparator, (np.abs(forecasts) + np.abs(test_set) + epsilon))\n",
    "    smape = 2 * np.abs(forecasts - test_set) / sum_values\n",
    "    msmape_per_series = np.nanmean(smape, axis=1)\n",
    "    return msmape_per_series\n",
    "\n",
    "# Função para calcular os valores de MASE\n",
    "def calculate_mase(forecasts, test_set, training_set, seasonality):\n",
    "    mase_per_series = []\n",
    "    \n",
    "    for k in range(forecasts.shape[0]):\n",
    "        te = test_set[k, ~np.isnan(test_set[k, :])]\n",
    "        tr = training_set[k][~np.isnan(training_set[k])]\n",
    "        f = forecasts[k, ~np.isnan(forecasts[k, :])]\n",
    "        \n",
    "        # Cálculo de MASE\n",
    "        mase = MASE(te, f, np.mean(np.abs(np.diff(tr, n=1, axis=0, prepend=tr[0]))))\n",
    "        \n",
    "        if np.isnan(mase):\n",
    "            mase = MASE(te, f, np.mean(np.abs(np.diff(tr, n=1, axis=0, prepend=tr[0]))))\n",
    "        \n",
    "        mase_per_series.append(mase)\n",
    "\n",
    "    return np.array(mase_per_series)\n",
    "\n",
    "# Função para calcular os valores de MAE\n",
    "def calculate_mae(forecasts, test_set):\n",
    "    mae = np.abs(forecasts - test_set)\n",
    "    mae_per_series = np.nanmean(mae, axis=1)\n",
    "    return mae_per_series\n",
    "\n",
    "# Função para calcular os valores de RMSE\n",
    "def calculate_rmse(forecasts, test_set):\n",
    "    squared_errors = (forecasts - test_set) ** 2\n",
    "    rmse_per_series = np.sqrt(np.nanmean(squared_errors, axis=1))\n",
    "    return rmse_per_series\n",
    "\n",
    "# Função para fornecer um resumo das métricas de erro\n",
    "def calculate_errors(forecasts, test_set, training_set, seasonality, output_file_name):\n",
    "    smape_per_series = calculate_smape(forecasts, test_set)\n",
    "    msmape_per_series = calculate_msmape(forecasts, test_set)\n",
    "    mase_per_series = calculate_mase(forecasts, test_set, training_set, seasonality)\n",
    "    mae_per_series = calculate_mae(forecasts, test_set)\n",
    "    rmse_per_series = calculate_rmse(forecasts, test_set)\n",
    "\n",
    "    metrics = {\n",
    "        \"Mean SMAPE\": np.nanmean(smape_per_series),\n",
    "        \"Median SMAPE\": np.nanmedian(smape_per_series),\n",
    "        \"Mean mSMAPE\": np.nanmean(msmape_per_series),\n",
    "        \"Median mSMAPE\": np.nanmedian(msmape_per_series),\n",
    "        \"Mean MASE\": np.nanmean(mase_per_series),\n",
    "        \"Median MASE\": np.nanmedian(mase_per_series),\n",
    "        \"Mean MAE\": np.nanmean(mae_per_series),\n",
    "        \"Median MAE\": np.nanmedian(mae_per_series),\n",
    "        \"Mean RMSE\": np.nanmean(rmse_per_series),\n",
    "        \"Median RMSE\": np.nanmedian(rmse_per_series),\n",
    "    }\n",
    "\n",
    "    for key, value in metrics.items():\n",
    "        print(f\"{key}: {value}\")\n",
    "\n",
    "    # Escrevendo as métricas em arquivos\n",
    "    np.savetxt(f\"{output_file_name}_smape.txt\", smape_per_series, delimiter=\",\")\n",
    "    np.savetxt(f\"{output_file_name}_msmape.txt\", msmape_per_series, delimiter=\",\")\n",
    "    np.savetxt(f\"{output_file_name}_mase.txt\", mase_per_series, delimiter=\",\")\n",
    "    np.savetxt(f\"{output_file_name}_mae.txt\", mae_per_series, delimiter=\",\")\n",
    "    np.savetxt(f\"{output_file_name}_rmse.txt\", rmse_per_series, delimiter=\",\")\n",
    "    \n",
    "    with open(f\"{output_file_name}.txt\", \"w\") as f:\n",
    "        for key, value in metrics.items():\n",
    "            f.write(f\"{key}: {value}\\n\")\n",
    "\n",
    "# Função auxiliar para calcular MASE\n",
    "def MASE(actual, forecast, training_mean):\n",
    "    return np.mean(np.abs(actual - forecast)) / training_mean if training_mean != 0 else np.nan\n",
    "\n",
    "def ensure_even(n):\n",
    "    return n - (n % 2)"
   ]
  },
  {
   "cell_type": "code",
   "execution_count": null,
   "metadata": {},
   "outputs": [
    {
     "data": {
      "text/plain": [
       "0      128.78\n",
       "1      132.75\n",
       "2      141.02\n",
       "3      153.50\n",
       "4      164.34\n",
       "5      176.40\n",
       "6      183.09\n",
       "7      201.19\n",
       "8      221.09\n",
       "9      237.96\n",
       "10     251.73\n",
       "11     272.28\n",
       "12     295.23\n",
       "13     313.41\n",
       "14     337.83\n",
       "15     360.32\n",
       "16     391.13\n",
       "17     425.03\n",
       "18     470.01\n",
       "19     518.94\n",
       "20     577.56\n",
       "21     655.30\n",
       "22     720.51\n",
       "23     781.73\n",
       "24     869.42\n",
       "25     977.59\n",
       "26    1089.75\n",
       "27    1202.90\n",
       "28    1340.83\n",
       "29    1497.09\n",
       "30    1728.19\n",
       "31    1973.56\n",
       "32    2256.73\n",
       "33    2562.33\n",
       "dtype: float64"
      ]
     },
     "execution_count": 825,
     "metadata": {},
     "output_type": "execute_result"
    }
   ],
   "source": [
    "window = 12\n",
    "metadata, series_data = read_tsf('../m4/m4_yearly_dataset.tsf')\n",
    "\n",
    "for meta in metadata:\n",
    "    if '@horizon' in meta:\n",
    "        horizon = int(meta[9:])\n",
    "window = ensure_even(horizon)\n",
    "series = series_data.loc[54]['series']\n",
    "train, test = train_test_stats(pd.Series(series), horizon)\n",
    "train_val, test_val = train_test_stats(train, horizon)\n",
    "convs = generate_convolutions_2(window, 20)\n",
    "train"
   ]
  },
  {
   "cell_type": "code",
   "execution_count": null,
   "metadata": {},
   "outputs": [],
   "source": [
    "# data = features_target_v2(pd.concat([train, pd.Series([0] * horizon, index=test.index)]), convs, window)\n",
    "\n",
    "# train_tf = transform_regressors(train, \"normal\")\n",
    "data = rolling_semnorm(pd.concat([train, pd.Series([0] * horizon, index=test.index)]), window)\n",
    "                                        "
   ]
  },
  {
   "cell_type": "code",
   "execution_count": null,
   "metadata": {},
   "outputs": [
    {
     "data": {
      "text/html": [
       "<style>#sk-container-id-54 {color: black;background-color: white;}#sk-container-id-54 pre{padding: 0;}#sk-container-id-54 div.sk-toggleable {background-color: white;}#sk-container-id-54 label.sk-toggleable__label {cursor: pointer;display: block;width: 100%;margin-bottom: 0;padding: 0.3em;box-sizing: border-box;text-align: center;}#sk-container-id-54 label.sk-toggleable__label-arrow:before {content: \"▸\";float: left;margin-right: 0.25em;color: #696969;}#sk-container-id-54 label.sk-toggleable__label-arrow:hover:before {color: black;}#sk-container-id-54 div.sk-estimator:hover label.sk-toggleable__label-arrow:before {color: black;}#sk-container-id-54 div.sk-toggleable__content {max-height: 0;max-width: 0;overflow: hidden;text-align: left;background-color: #f0f8ff;}#sk-container-id-54 div.sk-toggleable__content pre {margin: 0.2em;color: black;border-radius: 0.25em;background-color: #f0f8ff;}#sk-container-id-54 input.sk-toggleable__control:checked~div.sk-toggleable__content {max-height: 200px;max-width: 100%;overflow: auto;}#sk-container-id-54 input.sk-toggleable__control:checked~label.sk-toggleable__label-arrow:before {content: \"▾\";}#sk-container-id-54 div.sk-estimator input.sk-toggleable__control:checked~label.sk-toggleable__label {background-color: #d4ebff;}#sk-container-id-54 div.sk-label input.sk-toggleable__control:checked~label.sk-toggleable__label {background-color: #d4ebff;}#sk-container-id-54 input.sk-hidden--visually {border: 0;clip: rect(1px 1px 1px 1px);clip: rect(1px, 1px, 1px, 1px);height: 1px;margin: -1px;overflow: hidden;padding: 0;position: absolute;width: 1px;}#sk-container-id-54 div.sk-estimator {font-family: monospace;background-color: #f0f8ff;border: 1px dotted black;border-radius: 0.25em;box-sizing: border-box;margin-bottom: 0.5em;}#sk-container-id-54 div.sk-estimator:hover {background-color: #d4ebff;}#sk-container-id-54 div.sk-parallel-item::after {content: \"\";width: 100%;border-bottom: 1px solid gray;flex-grow: 1;}#sk-container-id-54 div.sk-label:hover label.sk-toggleable__label {background-color: #d4ebff;}#sk-container-id-54 div.sk-serial::before {content: \"\";position: absolute;border-left: 1px solid gray;box-sizing: border-box;top: 0;bottom: 0;left: 50%;z-index: 0;}#sk-container-id-54 div.sk-serial {display: flex;flex-direction: column;align-items: center;background-color: white;padding-right: 0.2em;padding-left: 0.2em;position: relative;}#sk-container-id-54 div.sk-item {position: relative;z-index: 1;}#sk-container-id-54 div.sk-parallel {display: flex;align-items: stretch;justify-content: center;background-color: white;position: relative;}#sk-container-id-54 div.sk-item::before, #sk-container-id-54 div.sk-parallel-item::before {content: \"\";position: absolute;border-left: 1px solid gray;box-sizing: border-box;top: 0;bottom: 0;left: 50%;z-index: -1;}#sk-container-id-54 div.sk-parallel-item {display: flex;flex-direction: column;z-index: 1;position: relative;background-color: white;}#sk-container-id-54 div.sk-parallel-item:first-child::after {align-self: flex-end;width: 50%;}#sk-container-id-54 div.sk-parallel-item:last-child::after {align-self: flex-start;width: 50%;}#sk-container-id-54 div.sk-parallel-item:only-child::after {width: 0;}#sk-container-id-54 div.sk-dashed-wrapped {border: 1px dashed gray;margin: 0 0.4em 0.5em 0.4em;box-sizing: border-box;padding-bottom: 0.4em;background-color: white;}#sk-container-id-54 div.sk-label label {font-family: monospace;font-weight: bold;display: inline-block;line-height: 1.2em;}#sk-container-id-54 div.sk-label-container {text-align: center;}#sk-container-id-54 div.sk-container {/* jupyter's `normalize.less` sets `[hidden] { display: none; }` but bootstrap.min.css set `[hidden] { display: none !important; }` so we also need the `!important` here to be able to override the default hidden behavior on the sphinx rendered scikit-learn.org. See: https://github.com/scikit-learn/scikit-learn/issues/21755 */display: inline-block !important;position: relative;}#sk-container-id-54 div.sk-text-repr-fallback {display: none;}</style><div id=\"sk-container-id-54\" class=\"sk-top-container\"><div class=\"sk-text-repr-fallback\"><pre>RidgeCV(alphas=array([1.00000000e-03, 4.64158883e-03, 2.15443469e-02, 1.00000000e-01,\n",
       "       4.64158883e-01, 2.15443469e+00, 1.00000000e+01, 4.64158883e+01,\n",
       "       2.15443469e+02, 1.00000000e+03]))</pre><b>In a Jupyter environment, please rerun this cell to show the HTML representation or trust the notebook. <br />On GitHub, the HTML representation is unable to render, please try loading this page with nbviewer.org.</b></div><div class=\"sk-container\" hidden><div class=\"sk-item\"><div class=\"sk-estimator sk-toggleable\"><input class=\"sk-toggleable__control sk-hidden--visually\" id=\"sk-estimator-id-54\" type=\"checkbox\" checked><label for=\"sk-estimator-id-54\" class=\"sk-toggleable__label sk-toggleable__label-arrow\">RidgeCV</label><div class=\"sk-toggleable__content\"><pre>RidgeCV(alphas=array([1.00000000e-03, 4.64158883e-03, 2.15443469e-02, 1.00000000e-01,\n",
       "       4.64158883e-01, 2.15443469e+00, 1.00000000e+01, 4.64158883e+01,\n",
       "       2.15443469e+02, 1.00000000e+03]))</pre></div></div></div></div></div>"
      ],
      "text/plain": [
       "RidgeCV(alphas=array([1.00000000e-03, 4.64158883e-03, 2.15443469e-02, 1.00000000e-01,\n",
       "       4.64158883e-01, 2.15443469e+00, 1.00000000e+01, 4.64158883e+01,\n",
       "       2.15443469e+02, 1.00000000e+03]))"
      ]
     },
     "execution_count": 827,
     "metadata": {},
     "output_type": "execute_result"
    }
   ],
   "source": [
    "from sklearn.svm import SVR\n",
    "X_train, X_test, y_train, _ = train_test_split(data, horizon)\n",
    "rg = RidgeCV(alphas=np.logspace(-3, 3, 10))\n",
    "# rg = RandomForestRegressor(n_estimators=200, random_state=42)\n",
    "from sklearn.ensemble import GradientBoostingRegressor\n",
    "# rg = GradientBoostingRegressor(loss='squared_error')\n",
    "# rg = GradientBoostingRegressor(\n",
    "#     n_estimators=1200,        # Número de árvores\n",
    "#     learning_rate=0.05,      # Taxa de aprendizado\n",
    "#     max_depth=5,             # Profundidade máxima das árvores\n",
    "#     min_samples_split=3,     # Amostras mínimas para dividir um nó\n",
    "#     min_samples_leaf=2,      # Amostras mínimas em cada folha\n",
    "#     subsample=0.5,           # Proporção de dados usados para cada árvore\n",
    "#     max_features=None,       \n",
    "#     loss='squared_error'     \n",
    "# )\n",
    "rg.fit(X_train, y_train)"
   ]
  },
  {
   "cell_type": "code",
   "execution_count": null,
   "metadata": {},
   "outputs": [
    {
     "data": {
      "text/plain": [
       "[2919.321477586238,\n",
       " 3333.9279694160605,\n",
       " 3810.621433000704,\n",
       " 4356.511435583439,\n",
       " 4980.889313743149,\n",
       " 5699.048534990047]"
      ]
     },
     "execution_count": 828,
     "metadata": {},
     "output_type": "execute_result"
    }
   ],
   "source": [
    "renorm = pd.concat([train, pd.Series([0] * horizon, index=test.index)]).tolist()\n",
    "#RIDGE\n",
    "# predictions = recursive_rocket1_v2(X_test, rg, znorm(train[-window:]).tolist(), convs, horizon, window)\n",
    "preds_real = recursive_multistep_forecasting(X_test, rg, horizon)\n",
    "# preds = pd.Series(predictions, index=test.index)\n",
    "# preds_real = reverse_regressors(train, preds, format=\"normal\")\n",
    "# mean = np.mean(train)\n",
    "# std = np.std(train)\n",
    "# preds_real = znorm_reverse(preds, mean, std)\n",
    "\n",
    "preds_real"
   ]
  },
  {
   "cell_type": "code",
   "execution_count": null,
   "metadata": {},
   "outputs": [
    {
     "data": {
      "text/plain": [
       "34    2840.07\n",
       "35    3116.18\n",
       "36    3472.21\n",
       "37    3803.11\n",
       "38    4164.57\n",
       "39    4687.12\n",
       "dtype: float64"
      ]
     },
     "execution_count": 829,
     "metadata": {},
     "output_type": "execute_result"
    }
   ],
   "source": [
    "test"
   ]
  },
  {
   "cell_type": "code",
   "execution_count": null,
   "metadata": {},
   "outputs": [
    {
     "data": {
      "text/plain": [
       "array([600.67281772])"
      ]
     },
     "execution_count": 830,
     "metadata": {},
     "output_type": "execute_result"
    }
   ],
   "source": [
    "preds_real_array = np.array(preds_real)\n",
    "preds_real_reshaped = preds_real_array.reshape(1, -1)\n",
    "test_reshaped = test.values.reshape(1, -1)\n",
    "rmse_result_ridge = calculate_rmse(preds_real_reshaped, test_reshaped)\n",
    "rmse_result_ridge"
   ]
  },
  {
   "cell_type": "code",
   "execution_count": null,
   "metadata": {},
   "outputs": [
    {
     "data": {
      "image/png": "[encoded data removed]",
      "text/plain": [
       "<Figure size 640x480 with 1 Axes>"
      ]
     },
     "metadata": {},
     "output_type": "display_data"
    }
   ],
   "source": [
    "plt.plot(test)\n",
    "plt.show()"
   ]
  },
  {
   "cell_type": "code",
   "execution_count": null,
   "metadata": {},
   "outputs": [
    {
     "data": {
      "image/png": "[encoded data removed]",
      "text/plain": [
       "<Figure size 640x480 with 1 Axes>"
      ]
     },
     "metadata": {},
     "output_type": "display_data"
    }
   ],
   "source": [
    "# plt.plot(preds_real)\n",
    "plt.plot(test.tolist())\n",
    "plt.plot(preds_real)\n",
    "# plt.plot(train.tolist())\n",
    "plt.show()"
   ]
  },
  {
   "cell_type": "code",
   "execution_count": null,
   "metadata": {},
   "outputs": [],
   "source": [
    "# horizon = 13\n",
    "# representation = \"DWT\"\n",
    "# level = 7\n",
    "# wavelet = \"bior2.2\"\n",
    "# transform = \"normal\"\n",
    "# window = 14\n",
    "# # window = 90\n",
    "\n",
    "# # series = pd.read_csv('../m4/m4_monthly_dataset.tsf', sep='\\t', encoding='ISO-8859-1')\n",
    "# smapes_ridge = []\n",
    "# rmses_ridge = []\n",
    "\n",
    "# smapes_rf = []\n",
    "# rmses_rf = []\n",
    "\n",
    "# for index in range(len(series_data)):\n",
    "#     try:\n",
    "#         print(index)\n",
    "#         series = series_data.loc[index]['series']\n",
    "\n",
    "#         train, test = train_test_stats(pd.Series(series), horizon)\n",
    "#         # train_tf = transform_train(train, transform)\n",
    "#         convs = generate_convolutions(window, 10)\n",
    "#         # train_tf = train\n",
    "#         data = features_target(pd.concat([train, pd.Series([0] * horizon, index=test.index)]), convs, window)\n",
    "#         X_train, X_test, y_train, _ = train_test_split(data, horizon)\n",
    "#         rg = RidgeCV(alphas=np.logspace(-3, 3, 10))\n",
    "#         # rg = RandomForestRegressor(random_state=42)\n",
    "#         rg.fit(X_train, y_train)\n",
    "\n",
    "#         #RIDGE\n",
    "#         preds_real = recursive_rocket1(X_test, rg, train[-window:].tolist(), convs, horizon)\n",
    "#         mape_result_ridge = mape(test, preds_real)\n",
    "#         preds_real_array = np.array(preds_real)\n",
    "#         preds_real_reshaped = preds_real_array.reshape(1, -1)\n",
    "#         test_reshaped = test.values.reshape(1, -1)\n",
    "#         smape_result_ridge = calculate_smape(preds_real_reshaped, test_reshaped)\n",
    "#         rmse_result_ridge = calculate_rmse(preds_real_reshaped, test_reshaped)\n",
    "#         rmses_ridge.append(rmse_result_ridge)\n",
    "#         smapes_ridge.append(smape_result_ridge)\n",
    "\n",
    "#         #RF\n",
    "#         rg = RandomForestRegressor(random_state=42)\n",
    "#         rg.fit(X_train, y_train)\n",
    "\n",
    "#         preds_real = recursive_rocket1(X_test, rg, train[-window:].tolist(), convs, horizon)\n",
    "#         mape_result_ridge = mape(test, preds_real)\n",
    "#         preds_real_array = np.array(preds_real)\n",
    "#         preds_real_reshaped = preds_real_array.reshape(1, -1)\n",
    "#         test_reshaped = test.values.reshape(1, -1)\n",
    "#         smape_result_rf = calculate_smape(preds_real_reshaped, test_reshaped)\n",
    "#         rmse_result_rf = calculate_rmse(preds_real_reshaped, test_reshaped)\n",
    "#         rmses_rf.append(rmse_result_rf)\n",
    "#         smapes_rf.append(smape_result_rf)\n",
    "\n",
    "\n",
    "#         print(f'RIDGE: {np.mean(rmses_ridge)} | RF: {np.mean(rmses_rf)}')\n",
    "#     except Exception as e:\n",
    "#         print(f'Index: {index} | {e}')\n",
    "#         print(len(series))\n",
    "#         continue\n",
    "#     # print(pocid_result)"
   ]
  }
 ],
 "metadata": {
  "kernelspec": {
   "display_name": "base",
   "language": "python",
   "name": "python3"
  },
  "language_info": {
   "codemirror_mode": {
    "name": "ipython",
    "version": 3
   },
   "file_extension": ".py",
   "mimetype": "text/x-python",
   "name": "python",
   "nbconvert_exporter": "python",
   "pygments_lexer": "ipython3",
   "version": "3.11.7"
  }
 },
 "nbformat": 4,
 "nbformat_minor": 2
}
