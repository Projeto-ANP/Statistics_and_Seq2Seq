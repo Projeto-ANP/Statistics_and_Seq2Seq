{
 "cells": [
  {
   "cell_type": "code",
   "execution_count": 1,
   "metadata": {},
   "outputs": [
    {
     "name": "stderr",
     "output_type": "stream",
     "text": [
      "/home/user/miniconda3/envs/lucas/lib/python3.11/site-packages/rapids_dask_dependency/dask_loader.py:36: FutureWarning: Minimal version of pyarrow will soon be increased to 14.0.1. You are using 11.0.0. Please consider upgrading.\n",
      "  mod = importlib.import_module(spec.name)\n"
     ]
    }
   ],
   "source": [
    "# import pandas as pd\n",
    "from cisia.datasets import DatasetLoader\n",
    "from Statistics_and_Seq2Seq.all_functions import *\n",
    "import pandas as pd"
   ]
  },
  {
   "cell_type": "code",
   "execution_count": 35,
   "metadata": {},
   "outputs": [
    {
     "data": {
      "text/plain": [
       "array([0.        , 0.08333333, 0.16666667, 0.25      , 0.33333333,\n",
       "       0.41666667])"
      ]
     },
     "execution_count": 35,
     "metadata": {},
     "output_type": "execute_result"
    }
   ],
   "source": [
    "preds_dba = [1,1,1,1,1,1,1,1,1]\n",
    "test = [100,100,100,100,100,100,100, 100, 100]\n",
    "\n",
    "serie_list = [1,2,3,4,5,6,7,8,9,10,11,12]\n",
    "fft_values = np.fft.fft(serie_list)\n",
    "frequencies = np.fft.fftfreq(len(serie_list), d=1)\n",
    "\n",
    "positive_freqs = frequencies[frequencies >= 0]\n",
    "positive_fft_values = np.abs(fft_values[frequencies >= 0])\n",
    "\n",
    "\n",
    "fft_magnitudes = np.abs(fft_values)\n",
    "half_n = len(fft_magnitudes) // 2\n",
    "fft_features = fft_magnitudes[1:half_n].tolist() \n",
    "positive_freqs"
   ]
  },
  {
   "cell_type": "code",
   "execution_count": 13,
   "metadata": {},
   "outputs": [
    {
     "name": "stdout",
     "output_type": "stream",
     "text": [
      "182\n",
      "182\n",
      "mape     1836337553394767.5000\n",
      "pocid                  61.8881\n",
      "smape                   0.2266\n",
      "rmse                 6428.1379\n",
      "msmape                  0.2264\n",
      "mae                  5564.3191\n",
      "dtype: float64\n"
     ]
    }
   ],
   "source": [
    "df_rf = pd.read_csv('./timeseries/mestrado/resultados/DBA_ALL/ANP_MONTHLY.csv', sep=\";\")\n",
    "print(len(df_rf))\n",
    "df_rf = df_rf[df_rf['final_test'] == '2024-11-30']\n",
    "df_rf = df_rf.sort_values(by='dataset_index')\n",
    "print(len(df_rf))\n",
    "pd.set_option('display.float_format', '{:.4f}'.format)\n",
    "# for col in [\"mape\", \"pocid\", \"smape\"]:\n",
    "#     df_rf[col] = pd.to_numeric(df_rf[col], errors='coerce')\n",
    "colunas = [\"mape\", \"pocid\", \"smape\", \"rmse\", \"msmape\", \"mae\"]\n",
    "medias = df_rf[colunas].mean(skipna=True)\n",
    "print(medias)\n",
    "\n",
    "# print(df_rf[colunas].dtypes)\n",
    "\n"
   ]
  },
  {
   "cell_type": "code",
   "execution_count": 23,
   "metadata": {},
   "outputs": [
    {
     "name": "stdout",
     "output_type": "stream",
     "text": [
      "182\n",
      "182\n",
      "mape     1917366772699513.7500\n",
      "pocid                  64.9351\n",
      "smape                   0.2222\n",
      "rmse                 5909.4001\n",
      "msmape                  0.2220\n",
      "mae                  5060.2508\n",
      "dtype: float64\n"
     ]
    }
   ],
   "source": [
    "df_rf = pd.read_csv('./timeseries/mestrado/resultados/BEST_DBA/ANP_MONTHLY.csv', sep=\";\")\n",
    "print(len(df_rf))\n",
    "df_rf = df_rf[df_rf['final_test'] == '2024-11-30']\n",
    "df_rf = df_rf.sort_values(by='dataset_index')\n",
    "print(len(df_rf))\n",
    "pd.set_option('display.float_format', '{:.4f}'.format)\n",
    "# for col in [\"mape\", \"pocid\", \"smape\"]:\n",
    "#     df_rf[col] = pd.to_numeric(df_rf[col], errors='coerce')\n",
    "colunas = [\"mape\", \"pocid\", \"smape\", \"rmse\", \"msmape\", \"mae\"]\n",
    "medias = df_rf[colunas].mean(skipna=True)\n",
    "print(medias)\n",
    "\n",
    "# print(df_rf[colunas].dtypes)\n",
    "\n"
   ]
  },
  {
   "cell_type": "code",
   "execution_count": 24,
   "metadata": {},
   "outputs": [
    {
     "name": "stdout",
     "output_type": "stream",
     "text": [
      "1917.37\n"
     ]
    }
   ],
   "source": [
    "number = 1917366772699513.7500\n",
    "formatted_number = \"{:.2f}\".format(number / 1e12)  # Divida por 1e12\n",
    "print(formatted_number)\n"
   ]
  },
  {
   "cell_type": "code",
   "execution_count": null,
   "metadata": {},
   "outputs": [
    {
     "name": "stdout",
     "output_type": "stream",
     "text": [
      "5642\n",
      "182\n",
      "mape     1103238081390492.625000\n",
      "pocid                  59.090909\n",
      "smape                   0.233257\n",
      "rmse                 6688.664367\n",
      "msmape                  0.233113\n",
      "mae                  5776.790842\n",
      "dtype: float64\n"
     ]
    }
   ],
   "source": [
    "df_rf = pd.read_csv('./timeseries/mestrado/resultados/DWT_svr/normal/ANP_MONTHLY.csv', sep=\";\")\n",
    "print(len(df_rf))\n",
    "df_rf = df_rf[df_rf['final_test'] == '2024-11-30']\n",
    "df_rf = df_rf.sort_values(by='dataset_index')\n",
    "print(len(df_rf))\n",
    "pd.set_option('display.float_format', '{:.6f}'.format)\n",
    "colunas = [\"mape\", \"pocid\", \"smape\", \"rmse\", \"msmape\", \"mae\"]\n",
    "medias = df_rf[colunas].mean()\n",
    "print(medias)\n"
   ]
  },
  {
   "cell_type": "code",
   "execution_count": null,
   "metadata": {},
   "outputs": [
    {
     "name": "stdout",
     "output_type": "stream",
     "text": [
      "5642\n",
      "182\n",
      "mape     979432969040132.625000\n",
      "pocid                 54.545455\n",
      "smape                  0.228133\n",
      "rmse                6071.384907\n",
      "msmape                 0.227964\n",
      "mae                 5147.831877\n",
      "dtype: float64\n"
     ]
    }
   ],
   "source": [
    "df_rf = pd.read_csv('./timeseries/mestrado/resultados/rf/normal/ANP_MONTHLY.csv', sep=\";\")\n",
    "print(len(df_rf))\n",
    "df_rf = df_rf[df_rf['final_test'] == '2019-11-30']\n",
    "df_rf = df_rf.sort_values(by='dataset_index')\n",
    "print(len(df_rf))\n",
    "pd.set_option('display.float_format', '{:.6f}'.format)  \n",
    "colunas = [\"mape\", \"pocid\", \"smape\", \"rmse\", \"msmape\", \"mae\"] \n",
    "medias = df_rf[colunas].mean()\n",
    "print(medias)\n"
   ]
  },
  {
   "cell_type": "code",
   "execution_count": null,
   "metadata": {},
   "outputs": [
    {
     "name": "stdout",
     "output_type": "stream",
     "text": [
      "5642\n",
      "182\n",
      "mape     974566590232945.375000\n",
      "pocid                 58.291708\n",
      "smape                  0.228875\n",
      "rmse                5773.273960\n",
      "msmape                 0.228706\n",
      "mae                 4962.698793\n",
      "dtype: float64\n"
     ]
    }
   ],
   "source": [
    "df_rf = pd.read_csv('./timeseries/mestrado/resultados/DWT_rf/normal/ANP_MONTHLY.csv', sep=\";\")\n",
    "print(len(df_rf))\n",
    "df_rf = df_rf[df_rf['final_test'] == '2019-11-30']\n",
    "df_rf = df_rf.sort_values(by='dataset_index')\n",
    "print(len(df_rf))\n",
    "pd.set_option('display.float_format', '{:.6f}'.format)  \n",
    "colunas = [\"mape\", \"pocid\", \"smape\", \"rmse\", \"msmape\", \"mae\"]\n",
    "medias = df_rf[colunas].mean()\n",
    "print(medias)\n"
   ]
  },
  {
   "cell_type": "code",
   "execution_count": null,
   "metadata": {},
   "outputs": [
    {
     "name": "stdout",
     "output_type": "stream",
     "text": [
      "3213\n",
      "128\n",
      "mape     7207439901456520.000000\n",
      "pocid                  56.463068\n",
      "smape                   0.273473\n",
      "rmse                 7657.012981\n",
      "msmape                  0.273315\n",
      "mae                  6670.197287\n",
      "dtype: float64\n"
     ]
    }
   ],
   "source": [
    "df_rf = pd.read_csv('./timeseries/mestrado/resultados/CWT_catboost/normal/ANP_MONTHLY.csv', sep=\";\")\n",
    "print(len(df_rf))\n",
    "df_rf = df_rf[df_rf['final_test'] == '2024-11-30']\n",
    "df_rf = df_rf.sort_values(by='dataset_index')\n",
    "print(len(df_rf))\n",
    "pd.set_option('display.float_format', '{:.6f}'.format)  \n",
    "colunas = [\"mape\", \"pocid\", \"smape\", \"rmse\", \"msmape\", \"mae\"]\n",
    "medias = df_rf[colunas].mean()\n",
    "print(medias)\n"
   ]
  },
  {
   "cell_type": "code",
   "execution_count": null,
   "metadata": {},
   "outputs": [
    {
     "name": "stdout",
     "output_type": "stream",
     "text": [
      "5642\n",
      "182\n",
      "mape     1739688863402046.250000\n",
      "pocid                  58.141858\n",
      "smape                   0.224125\n",
      "rmse                 6614.239732\n",
      "msmape                  0.223983\n",
      "mae                  5693.941986\n",
      "dtype: float64\n"
     ]
    }
   ],
   "source": [
    "df_rf = pd.read_csv('./timeseries/mestrado/resultados/DWT_catboost/normal/ANP_MONTHLY.csv', sep=\";\")\n",
    "print(len(df_rf))\n",
    "df_rf = df_rf[df_rf['final_test'] == '2024-11-30']\n",
    "df_rf = df_rf.sort_values(by='dataset_index')\n",
    "print(len(df_rf))\n",
    "pd.set_option('display.float_format', '{:.6f}'.format)  \n",
    "colunas = [\"mape\", \"pocid\", \"smape\", \"rmse\", \"msmape\", \"mae\"]\n",
    "medias = df_rf[colunas].mean()\n",
    "print(medias)\n"
   ]
  },
  {
   "cell_type": "code",
   "execution_count": null,
   "metadata": {},
   "outputs": [
    {
     "name": "stdout",
     "output_type": "stream",
     "text": [
      "5642\n",
      "182\n",
      "mape     1832408112923616.000000\n",
      "pocid                  57.342657\n",
      "smape                   0.261783\n",
      "rmse                 8474.589655\n",
      "msmape                  0.261644\n",
      "mae                  7362.823922\n",
      "dtype: float64\n"
     ]
    }
   ],
   "source": [
    "df_rf = pd.read_csv('./timeseries/mestrado/resultados/catboost/normal/ANP_MONTHLY.csv', sep=\";\")\n",
    "print(len(df_rf))\n",
    "df_rf = df_rf[df_rf['final_test'] == '2024-11-30']\n",
    "df_rf = df_rf.sort_values(by='dataset_index')\n",
    "print(len(df_rf))\n",
    "pd.set_option('display.float_format', '{:.6f}'.format)  \n",
    "colunas = [\"mape\", \"pocid\", \"smape\", \"rmse\", \"msmape\", \"mae\"]\n",
    "medias = df_rf[colunas].mean()\n",
    "print(medias)\n"
   ]
  },
  {
   "cell_type": "code",
   "execution_count": 6,
   "metadata": {},
   "outputs": [],
   "source": [
    "loader = DatasetLoader()\n",
    "# result, flag = loader.sales_monthly_state()\n",
    "# print(flag)\n",
    "df, metadata = loader.read_tsf(path_tsf='./mes_11_venda_mensal.tsf')\n",
    "frequency = metadata['frequency']\n",
    "line = df.iloc[143]\n",
    "df[\"series_value\"] = df[\"series_value\"].apply(np.array)\n",
    "def should_remove(series, window_size=24):\n",
    "    for i in range(0, len(series), window_size):\n",
    "        window = series[i : i + window_size]\n",
    "        if (window == 0).mean() > 0.5:\n",
    "            return True\n",
    "\n",
    "    return False\n",
    "\n",
    "\n",
    "mask = df[\"series_value\"].apply(should_remove)\n",
    "# df_removed = df[mask]\n",
    "# df = df[~mask]\n",
    "df_removed = df[mask]\n",
    "# df = df[~mask]\n",
    "\n"
   ]
  },
  {
   "cell_type": "code",
   "execution_count": 7,
   "metadata": {},
   "outputs": [
    {
     "data": {
      "image/png": "[encoded data removed]",
      "text/plain": [
       "<Figure size 1000x400 with 1 Axes>"
      ]
     },
     "metadata": {},
     "output_type": "display_data"
    }
   ],
   "source": [
    "\n",
    "# serie = line['series_value'].tolist()\n",
    "# product_counts = df_removed[\"product\"].value_counts()\n",
    "# print(product_counts)\n",
    "import matplotlib.pyplot as plt\n",
    "series_value = df.iloc[122]['series_value'].tolist()\n",
    "start_timestamp = df.iloc[122]['start_timestamp']\n",
    "\n",
    "freq = \"M\" if frequency == \"monthly\" else \"Y\"\n",
    "\n",
    "index_series = pd.date_range(start=start_timestamp, periods=len(series_value), freq=freq)\n",
    "pd_series = pd.Series(series_value, index=index_series)\n",
    "plt.figure(figsize=(10, 4))\n",
    "plt.plot(pd_series, color='blue')\n",
    "plt.xlabel('Período',  fontweight='bold')\n",
    "plt.ylabel('Vendas em (m3)',  fontweight='bold')\n",
    "# plt.legend()\n",
    "plt.grid(True, linewidth=0.5)\n",
    "plt.tight_layout()\n",
    "plt.gca().spines['top'].set_visible(False)\n",
    "plt.gca().spines['right'].set_visible(False)\n",
    "plt.gca().spines['left'].set_visible(False)\n",
    "plt.gca().spines['bottom'].set_visible(False)\n",
    "plt.savefig('amazonas_preliminar_dados.pdf', bbox_inches='tight')\n",
    "plt.show()"
   ]
  },
  {
   "cell_type": "code",
   "execution_count": null,
   "metadata": {},
   "outputs": [],
   "source": [
    "# import numpy as np\n",
    "# import matplotlib.pyplot as plt\n",
    "\n",
    "# def morlet_wavelet(t, f, sigma=1):\n",
    "#     return np.exp(-t**2 / (2 * sigma**2)) * np.cos(2 * np.pi * f * t)\n",
    "\n",
    "# # Criando uma série temporal sintética mais variada\n",
    "# t = np.linspace(-2, 2, 500)\n",
    "# serie = (np.sin(5 * np.pi * t) + 0.5 * np.sin(12 * np.pi * t) + 0.3 * np.sin(20 * np.pi * t)) * np.exp(-t**2)\n",
    "\n",
    "# # Criando wavelets de diferentes escalas\n",
    "# long_wavelet = morlet_wavelet(t, f=5, sigma=0.5)\n",
    "# short_wavelet = morlet_wavelet(t, f=20, sigma=0.1)\n",
    "\n",
    "# # Função auxiliar para remover eixos\n",
    "# def remove_axes(ax):\n",
    "#     ax.set_xticks([])\n",
    "#     ax.set_yticks([])\n",
    "#     ax.set_frame_on(False)\n",
    "\n",
    "# # Criando primeira imagem (Wavelet Longa)\n",
    "# fig1, ax1 = plt.subplots(figsize=(6, 4))\n",
    "# ax1.plot(t, serie, 'k')\n",
    "# ax1.plot(t, long_wavelet * 0.5, 'r', alpha=0.7)\n",
    "# ax1.fill_between(t, long_wavelet * 0.5, color='red', alpha=0.2)\n",
    "# remove_axes(ax1)\n",
    "# plt.savefig(\"wavelet_longa.png\", bbox_inches='tight', pad_inches=0, dpi=300)\n",
    "# plt.close(fig1)\n",
    "\n",
    "# # Criando segunda imagem (Wavelet Curta)\n",
    "# fig2, ax2 = plt.subplots(figsize=(6, 4))\n",
    "# ax2.plot(t, serie, 'k')\n",
    "# ax2.plot(t, short_wavelet * 0.5, 'r', alpha=0.7)\n",
    "# ax2.fill_between(t, short_wavelet * 0.5, color='red', alpha=0.2)\n",
    "# remove_axes(ax2)\n",
    "# plt.savefig(\"wavelet_curta.png\", bbox_inches='tight', pad_inches=0, dpi=300)\n",
    "# plt.close(fig2)\n"
   ]
  }
 ],
 "metadata": {
  "kernelspec": {
   "display_name": "lucas",
   "language": "python",
   "name": "python3"
  },
  "language_info": {
   "codemirror_mode": {
    "name": "ipython",
    "version": 3
   },
   "file_extension": ".py",
   "mimetype": "text/x-python",
   "name": "python",
   "nbconvert_exporter": "python",
   "pygments_lexer": "ipython3",
   "version": "3.11.7"
  }
 },
 "nbformat": 4,
 "nbformat_minor": 2
}
